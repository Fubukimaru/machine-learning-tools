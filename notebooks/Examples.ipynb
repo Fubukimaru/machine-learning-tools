{
 "cells": [
  {
   "cell_type": "markdown",
   "metadata": {},
   "source": [
    "# Examples of RBM, CRBM and CNN networks"
   ]
  },
  {
   "cell_type": "markdown",
   "metadata": {},
   "source": [
    "## Using RRBM and RCNN packages"
   ]
  },
  {
   "cell_type": "markdown",
   "metadata": {},
   "source": [
    "#### Load Libraries"
   ]
  },
  {
   "cell_type": "code",
   "execution_count": 1,
   "metadata": {
    "collapsed": true
   },
   "outputs": [],
   "source": [
    "library(rrbm);\n",
    "library(rcnn);"
   ]
  },
  {
   "cell_type": "markdown",
   "metadata": {},
   "source": [
    "### RBMs: the MNIST example"
   ]
  },
  {
   "cell_type": "markdown",
   "metadata": {},
   "source": [
    "#### Load Dataset"
   ]
  },
  {
   "cell_type": "code",
   "execution_count": 2,
   "metadata": {
    "collapsed": true
   },
   "outputs": [],
   "source": [
    "mnist <- readRDS(\"../datasets/mnist.rds\");"
   ]
  },
  {
   "cell_type": "code",
   "execution_count": 3,
   "metadata": {
    "collapsed": true
   },
   "outputs": [],
   "source": [
    "training_x <- mnist$train$x / 255;\n",
    "training_y <- mnist$train$y;\n",
    "\n",
    "testing_x <- mnist$test$x / 255;\n",
    "testing_y <- mnist$test$y;"
   ]
  },
  {
   "cell_type": "markdown",
   "metadata": {},
   "source": [
    "#### Train the RBM"
   ]
  },
  {
   "cell_type": "code",
   "execution_count": 4,
   "metadata": {
    "collapsed": false
   },
   "outputs": [
    {
     "data": {
      "text/plain": [
       "Time difference of 9.060378 mins"
      ]
     },
     "metadata": {},
     "output_type": "display_data"
    }
   ],
   "source": [
    "start.time <- Sys.time()\n",
    "\n",
    "rbm1 <- train.rbm(n_hidden = 30,\n",
    "                  dataset = training_x,\n",
    "                  learning_rate = 1e-3,\n",
    "                  training_epochs = 10,\n",
    "                  batch_size = 10,\n",
    "                  momentum = 0.5\n",
    ");\n",
    "\n",
    "end.time <- Sys.time()\n",
    "time.taken <- end.time - start.time\n",
    "time.taken"
   ]
  },
  {
   "cell_type": "markdown",
   "metadata": {},
   "source": [
    "#### Predict using the RBM"
   ]
  },
  {
   "cell_type": "code",
   "execution_count": 5,
   "metadata": {
    "collapsed": false
   },
   "outputs": [],
   "source": [
    "result <- predict(rbm1, training_x);"
   ]
  },
  {
   "cell_type": "code",
   "execution_count": 6,
   "metadata": {
    "collapsed": false,
    "scrolled": true
   },
   "outputs": [
    {
     "name": "stdout",
     "output_type": "stream",
     "text": [
      "List of 2\n",
      " $ reconstruction: num [1:60000, 1:784] 0.1561 0.3103 0.3778 0.7363 -0.0555 ...\n",
      " $ activation    : num [1:60000, 1:30] 0.587 0.621 0.166 0.677 0.322 ...\n"
     ]
    }
   ],
   "source": [
    "str(result);"
   ]
  },
  {
   "cell_type": "markdown",
   "metadata": {},
   "source": [
    "### CRBMs: the Motion example"
   ]
  },
  {
   "cell_type": "markdown",
   "metadata": {},
   "source": [
    "#### Load Dataset"
   ]
  },
  {
   "cell_type": "code",
   "execution_count": 7,
   "metadata": {
    "collapsed": true
   },
   "outputs": [],
   "source": [
    "load_data <- function(filename)\n",
    "{\n",
    "    mat_dict <- readRDS(filename);\n",
    "    Motion <- mat_dict[['Motion']];\n",
    "\n",
    "    n_seq <- length(Motion);\n",
    "\n",
    "    # assume data is MIT format for now\n",
    "    indx <- c(1:9, 14, 19:21, 26, 31:33, 38, 43:45, 50, 55:57, 61:63, 67:69, 73:75,\n",
    "                79:81, 85:87, 91:93, 97:99, 103:105);\n",
    "\n",
    "    ##row1 <- Motion[[c(1,1)]][1,];\n",
    "    ##offsets <- array(row1[c(10:12, 16:18, 22:24, 28:30, 34:36, 40:42, 46:48, 52:54,\n",
    "    ##            58:60, 64:66, 70:72, 76:78, 82:84, 88:90, 94:96, 100:102,\n",
    "    ##            106:108)], c(3, length(row1)/3) );\n",
    "\n",
    "    # collapse sequences\n",
    "    batchdata <- rbind(Motion[[c(1,1)]][,indx],\n",
    "                       Motion[[c(2,1)]][,indx],\n",
    "                       Motion[[c(3,1)]][,indx]);\n",
    "    data_mean <- colMeans(batchdata);\n",
    "    data_std <- apply(batchdata, 2, sd);\n",
    "\n",
    "    batchdata <- t((t(batchdata) - data_mean) / data_std);\n",
    "\n",
    "    # get sequence lengths\n",
    "    seqlen <- sapply(1:3, function(x) nrow(Motion[[c(x,1)]]));\n",
    "\n",
    "    list(batchdata = batchdata, seqlen = seqlen, data_mean = data_mean, data_std = data_std);\n",
    "}"
   ]
  },
  {
   "cell_type": "code",
   "execution_count": 8,
   "metadata": {
    "collapsed": false
   },
   "outputs": [],
   "source": [
    "dataset <- load_data('../datasets/motion.rds');"
   ]
  },
  {
   "cell_type": "code",
   "execution_count": 9,
   "metadata": {
    "collapsed": false
   },
   "outputs": [
    {
     "name": "stdout",
     "output_type": "stream",
     "text": [
      "List of 4\n",
      " $ batchdata: num [1:3826, 1:49] -0.258 -0.23 -0.134 -0.234 -0.163 ...\n",
      " $ seqlen   : int [1:3] 438 260 3128\n",
      " $ data_mean: num [1:49] 1.58179 1.5854 0.00448 36.99363 -1.43077 ...\n",
      " $ data_std : num [1:49] 0.0537 0.0896 0.0403 14.3277 10.0685 ...\n"
     ]
    }
   ],
   "source": [
    "str(dataset)"
   ]
  },
  {
   "cell_type": "markdown",
   "metadata": {},
   "source": [
    "#### Train the CRBM"
   ]
  },
  {
   "cell_type": "code",
   "execution_count": 10,
   "metadata": {
    "collapsed": false
   },
   "outputs": [
    {
     "data": {
      "text/plain": [
       "Time difference of 1.176572 mins"
      ]
     },
     "metadata": {},
     "output_type": "display_data"
    }
   ],
   "source": [
    "start.time <- Sys.time()\n",
    "\n",
    "crbm <- train.crbm (dataset$batchdata,\n",
    "                    dataset$seqlen,\n",
    "                    batch_size = 100,\n",
    "                    n_hidden = 100,\n",
    "                    delay = 6,\n",
    "                    training_epochs = 200,\n",
    "                    learning_rate = 1e-3,\n",
    "                    momentum = 0.5,\n",
    "                    rand_seed = 1234\n",
    ");\n",
    "\n",
    "end.time <- Sys.time()\n",
    "time.taken <- end.time - start.time\n",
    "time.taken"
   ]
  },
  {
   "cell_type": "markdown",
   "metadata": {},
   "source": [
    "#### Predict using the CRBM\n",
    "\n",
    "Note: **predict** assumes that the input data is a time serie, to build the history on the fly. In the **native R** version, this function corresponds to **simulate_series_crbm**."
   ]
  },
  {
   "cell_type": "code",
   "execution_count": 11,
   "metadata": {
    "collapsed": true
   },
   "outputs": [],
   "source": [
    "results1 <- predict(crbm, dataset$batchdata);"
   ]
  },
  {
   "cell_type": "code",
   "execution_count": 12,
   "metadata": {
    "collapsed": false
   },
   "outputs": [
    {
     "name": "stdout",
     "output_type": "stream",
     "text": [
      "List of 2\n",
      " $ reconstruction: num [1:3826, 1:49] 0 0 0 0 0 0 0 0 0 0 ...\n",
      " $ activation    : num [1:3826, 1:100] 0 0 0 0 0 0 0 0 0 0 ...\n"
     ]
    }
   ],
   "source": [
    "str(results1)"
   ]
  },
  {
   "cell_type": "markdown",
   "metadata": {},
   "source": [
    "#### Forecasting using the CRBM"
   ]
  },
  {
   "cell_type": "code",
   "execution_count": 13,
   "metadata": {
    "collapsed": true
   },
   "outputs": [],
   "source": [
    "results2 <- forecast.crbm(crbm, dataset$batchdata[1:(crbm$delay+1),], 50, 30);"
   ]
  },
  {
   "cell_type": "code",
   "execution_count": 14,
   "metadata": {
    "collapsed": false,
    "scrolled": true
   },
   "outputs": [
    {
     "name": "stdout",
     "output_type": "stream",
     "text": [
      "List of 1\n",
      " $ generated: num [1:50, 1:49] 0.743 -0.936 -0.216 -1.347 1.197 ...\n"
     ]
    }
   ],
   "source": [
    "str(results2)"
   ]
  },
  {
   "cell_type": "markdown",
   "metadata": {},
   "source": [
    "### CNNs: the MNIST example (again)"
   ]
  },
  {
   "cell_type": "markdown",
   "metadata": {},
   "source": [
    "#### Load Dataset"
   ]
  },
  {
   "cell_type": "code",
   "execution_count": 15,
   "metadata": {
    "collapsed": true
   },
   "outputs": [],
   "source": [
    "mnist <- readRDS(\"../datasets/mnist.rds\");"
   ]
  },
  {
   "cell_type": "code",
   "execution_count": 16,
   "metadata": {
    "collapsed": true
   },
   "outputs": [],
   "source": [
    "img_size <- c(28,28);\n",
    "\n",
    "train <- mnist$train;\n",
    "training_x <- array(train$x, c(nrow(train$x), 1, img_size)) / 255;\n",
    "training_y <- binarization(train$y);\n",
    "\n",
    "test <- mnist$test;\n",
    "testing_x <- array(test$x, c(nrow(test$x), 1, img_size)) / 255;\n",
    "testing_y <- binarization(test$y);\n",
    "\n",
    "dataset <- training_x[1:1000,,,, drop=FALSE];\n",
    "targets <- training_y[1:1000,, drop=FALSE];\n",
    "\n",
    "newdata <- testing_x[1:1000,,,, drop=FALSE];"
   ]
  },
  {
   "cell_type": "markdown",
   "metadata": {},
   "source": [
    "#### Prepare the Convolutional MLP Network"
   ]
  },
  {
   "cell_type": "code",
   "execution_count": 17,
   "metadata": {
    "collapsed": true
   },
   "outputs": [],
   "source": [
    "batch_size <- 10;\n",
    "\n",
    "border_mode <- 2;\n",
    "filter_size <- 5;\n",
    "\n",
    "win_size <- 3;\n",
    "stride <- 2;"
   ]
  },
  {
   "cell_type": "code",
   "execution_count": 18,
   "metadata": {
    "collapsed": true
   },
   "outputs": [],
   "source": [
    "layers <- list(\n",
    "    c(\"CONV\", 1, 4, filter_size, 0.1, border_mode, batch_size),\n",
    "    c(\"POOL\", 4, 0.1, batch_size, win_size, stride),\n",
    "    c(\"RELU\", 4, batch_size),\n",
    "    c(\"CONV\", 4, 16, filter_size, 0.1, border_mode, batch_size),\n",
    "    c(\"POOL\", 16, 0.1, batch_size, win_size, stride),\n",
    "    c(\"RELU\", 16, batch_size),\n",
    "    c(\"FLAT\", 16, batch_size),\n",
    "    c(\"LINE\", 784, 64, 0.1, batch_size),\n",
    "    c(\"RELV\", batch_size),\n",
    "    c(\"LINE\", 64, 10, 0.1, batch_size),\n",
    "    c(\"SOFT\", 10, batch_size)\n",
    "#   c(\"SIGM\", 10, batch_size)\n",
    "#   c(\"TANH\", 10, batch_size)\n",
    "#   c(\"DIRE\", 10, batch_size)\n",
    ");"
   ]
  },
  {
   "cell_type": "markdown",
   "metadata": {},
   "source": [
    "#### Check if the defined network has correct shapes"
   ]
  },
  {
   "cell_type": "code",
   "execution_count": 19,
   "metadata": {
    "collapsed": false
   },
   "outputs": [
    {
     "data": {
      "text/html": [
       "TRUE"
      ],
      "text/latex": [
       "TRUE"
      ],
      "text/markdown": [
       "TRUE"
      ],
      "text/plain": [
       "[1] TRUE"
      ]
     },
     "metadata": {},
     "output_type": "display_data"
    }
   ],
   "source": [
    "check_layers(layers, dataset, targets, batch_size);"
   ]
  },
  {
   "cell_type": "markdown",
   "metadata": {},
   "source": [
    "#### Run the CNN"
   ]
  },
  {
   "cell_type": "code",
   "execution_count": 20,
   "metadata": {
    "collapsed": false
   },
   "outputs": [
    {
     "data": {
      "text/plain": [
       "Time difference of 2.73557 mins"
      ]
     },
     "metadata": {},
     "output_type": "display_data"
    }
   ],
   "source": [
    "start.time <- Sys.time()\n",
    "\n",
    "cnn1 <- train.cnn(dataset = dataset,\n",
    "                  targets = targets,\n",
    "                  layers = layers,\n",
    "                  batch_size = batch_size,\n",
    "                  training_epochs = 3,\n",
    "                  learning_rate = 1e-3,\n",
    "                  momentum = 0.8,\n",
    "                  rand_seed = 1234\n",
    ");\n",
    "\n",
    "end.time <- Sys.time()\n",
    "time.taken <- end.time - start.time\n",
    "time.taken"
   ]
  },
  {
   "cell_type": "code",
   "execution_count": 21,
   "metadata": {
    "collapsed": false
   },
   "outputs": [
    {
     "name": "stdout",
     "output_type": "stream",
     "text": [
      "List of 7\n",
      " $ dims.in      : int [1:4] 1000 1 28 28\n",
      " $ dims.out     : int [1:2] 1000 10\n",
      " $ layers       :List of 11\n",
      "  ..$ :List of 11\n",
      "  .. ..$ type       : chr \"CONV\"\n",
      "  .. ..$ batch_size : int 100\n",
      "  .. ..$ filter_size: int 5\n",
      "  .. ..$ n_filters  : int 4\n",
      "  .. ..$ n_channels : int 1\n",
      "  .. ..$ padding    : int [1:2] 2 2\n",
      "  .. ..$ win_size   : int [1:2] 5 5\n",
      "  .. ..$ b          : num [1:4] 4.96e-05 1.11e-03 -5.50e-05 -5.57e-04\n",
      "  .. ..$ grad_b     : num [1:4] -0.0513 0.015 -0.0758 0.0634\n",
      "  .. ..$ W          : num [1:4, 1, 1:5, 1:5] -0.0563 -0.0542 -0.141 0.0751 0.0976 ...\n",
      "  .. ..$ grad_W     : num [1:4, 1, 1:5, 1:5] 0 0 0 0 0 0 0 0 0 0 ...\n",
      "  ..$ :List of 6\n",
      "  .. ..$ type      : chr \"POOL\"\n",
      "  .. ..$ batch_size: int 100\n",
      "  .. ..$ n_channels: int 4\n",
      "  .. ..$ win_size  : int 3\n",
      "  .. ..$ stride    : int 2\n",
      "  .. ..$ padding   : int 1\n",
      "  ..$ :List of 3\n",
      "  .. ..$ type      : chr \"RELU\"\n",
      "  .. ..$ batch_size: int 100\n",
      "  .. ..$ n_channels: int 4\n",
      "  ..$ :List of 11\n",
      "  .. ..$ type       : chr \"CONV\"\n",
      "  .. ..$ batch_size : int 100\n",
      "  .. ..$ filter_size: int 5\n",
      "  .. ..$ n_filters  : int 16\n",
      "  .. ..$ n_channels : int 4\n",
      "  .. ..$ padding    : int [1:2] 2 2\n",
      "  .. ..$ win_size   : int [1:2] 5 5\n",
      "  .. ..$ b          : num [1:16] 5.40e-04 2.54e-04 -1.41e-03 6.18e-05 7.54e-04 ...\n",
      "  .. ..$ grad_b     : num [1:16] 0.0207 0.0161 0.0243 -0.0614 -0.0283 ...\n",
      "  .. ..$ W          : num [1:16, 1:4, 1:5, 1:5] -0.193796 -0.047995 0.000901 0.076242 -0.026121 ...\n",
      "  .. ..$ grad_W     : num [1:16, 1:4, 1:5, 1:5] 2.09e-07 3.19e-07 8.14e-08 1.03e-07 1.47e-07 ...\n",
      "  ..$ :List of 6\n",
      "  .. ..$ type      : chr \"POOL\"\n",
      "  .. ..$ batch_size: int 100\n",
      "  .. ..$ n_channels: int 16\n",
      "  .. ..$ win_size  : int 3\n",
      "  .. ..$ stride    : int 2\n",
      "  .. ..$ padding   : int 1\n",
      "  ..$ :List of 3\n",
      "  .. ..$ type      : chr \"RELU\"\n",
      "  .. ..$ batch_size: int 100\n",
      "  .. ..$ n_channels: int 16\n",
      "  ..$ :List of 4\n",
      "  .. ..$ type      : chr \"FLAT\"\n",
      "  .. ..$ batch_size: int 100\n",
      "  .. ..$ n_channels: int 16\n",
      "  .. ..$ img_dims  : int [1:2] 7 7\n",
      "  ..$ :List of 8\n",
      "  .. ..$ type      : chr \"LINE\"\n",
      "  .. ..$ batch_size: int 100\n",
      "  .. ..$ n_visible : int 784\n",
      "  .. ..$ n_hidden  : int 64\n",
      "  .. ..$ b         : num [1:64] 4.19e-04 3.85e-08 -8.17e-05 1.10e-05 2.04e-04 ...\n",
      "  .. ..$ grad_b    : num [1:64] 0.00272 -0.01772 -0.01214 0.01965 0.01082 ...\n",
      "  .. ..$ W         : num [1:64, 1:784] -0.012808 0.035836 0.000969 0.014218 -0.150141 ...\n",
      "  .. ..$ grad_W    : num [1:64, 1:784] 1.39e-07 2.57e-07 2.47e-07 2.47e-07 2.47e-07 ...\n",
      "  ..$ :List of 2\n",
      "  .. ..$ type      : chr \"RELV\"\n",
      "  .. ..$ batch_size: int 100\n",
      "  ..$ :List of 8\n",
      "  .. ..$ type      : chr \"LINE\"\n",
      "  .. ..$ batch_size: int 100\n",
      "  .. ..$ n_visible : int 64\n",
      "  .. ..$ n_hidden  : int 10\n",
      "  .. ..$ b         : num [1:10] 4.78e-04 -3.07e-05 -2.11e-04 1.49e-04 -2.40e-04 ...\n",
      "  .. ..$ grad_b    : num [1:10] 0.000123 0.100038 -0.099972 -0.099931 0.099988 ...\n",
      "  .. ..$ W         : num [1:10, 1:64] 0.101863 -0.099361 0.025616 -0.07773 -0.000394 ...\n",
      "  .. ..$ grad_W    : num [1:10, 1:64] 1.11e-07 2.17e-08 0.00 4.21e-08 8.17e-08 ...\n",
      "  ..$ :List of 3\n",
      "  .. ..$ type      : chr \"SOFT\"\n",
      "  .. ..$ batch_size: int 100\n",
      "  .. ..$ n_units   : int 10\n",
      " $ n.layers     : int 11\n",
      " $ conf.matrix  : num [1:10, 1:10] 213 0 0 0 0 0 0 0 0 0 ...\n",
      " $ mean.loss    : num 2.08\n",
      " $ fitted.values: num [1:1000, 1:10] 0.1 0.1 0.1 0.1 0.1 ...\n",
      " - attr(*, \"class\")= chr [1:2] \"cnn\" \"list\"\n"
     ]
    }
   ],
   "source": [
    "str(cnn1)"
   ]
  },
  {
   "cell_type": "markdown",
   "metadata": {},
   "source": [
    "## Using the R native functions"
   ]
  },
  {
   "cell_type": "code",
   "execution_count": 22,
   "metadata": {
    "collapsed": true
   },
   "outputs": [],
   "source": [
    "rm (list = ls());"
   ]
  },
  {
   "cell_type": "markdown",
   "metadata": {},
   "source": [
    "#### Load the R sources"
   ]
  },
  {
   "cell_type": "code",
   "execution_count": 23,
   "metadata": {
    "collapsed": false
   },
   "outputs": [],
   "source": [
    "setwd(\"..\");\n",
    "source(\"./cnn.R\");\n",
    "source(\"./crbm.R\");\n",
    "source(\"./crbm_series.R\");\n",
    "source(\"./rbm.R\");\n",
    "setwd(\"notebooks\");"
   ]
  },
  {
   "cell_type": "markdown",
   "metadata": {},
   "source": [
    "### Native R RBMs: the MNIST example (again!)"
   ]
  },
  {
   "cell_type": "markdown",
   "metadata": {},
   "source": [
    "#### Load Dataset"
   ]
  },
  {
   "cell_type": "code",
   "execution_count": 24,
   "metadata": {
    "collapsed": true
   },
   "outputs": [],
   "source": [
    "mnist <- readRDS(\"../datasets/mnist.rds\");"
   ]
  },
  {
   "cell_type": "code",
   "execution_count": 25,
   "metadata": {
    "collapsed": true
   },
   "outputs": [],
   "source": [
    "training_x <- mnist$train$x / 255;\n",
    "training_y <- mnist$train$y;\n",
    "\n",
    "testing_x <- mnist$test$x / 255;\n",
    "testing_y <- mnist$test$y;"
   ]
  },
  {
   "cell_type": "markdown",
   "metadata": {},
   "source": [
    "#### Train the RBM"
   ]
  },
  {
   "cell_type": "code",
   "execution_count": 26,
   "metadata": {
    "collapsed": false
   },
   "outputs": [
    {
     "name": "stdout",
     "output_type": "stream",
     "text": [
      "[1] \"Training epoch 1, cost is 0.642220655295729\"\n",
      "[1] \"Training epoch 2, cost is 0.522960555845479\"\n",
      "[1] \"Training epoch 3, cost is 0.481486622185855\"\n",
      "[1] \"Training epoch 4, cost is 0.468709437693013\"\n",
      "[1] \"Training epoch 5, cost is 0.464078277131045\"\n",
      "[1] \"Training epoch 6, cost is 0.464489827153796\"\n",
      "[1] \"Training took 55.234480381012 minutes\"\n"
     ]
    },
    {
     "data": {
      "text/plain": [
       "Time difference of 55.2441 secs"
      ]
     },
     "metadata": {},
     "output_type": "display_data"
    }
   ],
   "source": [
    "start.time <- Sys.time()\n",
    "\n",
    "rbm1 <- train_rbm(n_hidden = 30,\n",
    "                  dataset = training_x,\n",
    "                  learning_rate = 1e-3,\n",
    "                  training_epochs = 6,\n",
    "                  batch_size = 10,\n",
    "                  momentum = 0.1\n",
    ");\n",
    "\n",
    "end.time <- Sys.time()\n",
    "time.taken <- end.time - start.time\n",
    "time.taken"
   ]
  },
  {
   "cell_type": "markdown",
   "metadata": {},
   "source": [
    "#### Predict using the RBM"
   ]
  },
  {
   "cell_type": "code",
   "execution_count": 27,
   "metadata": {
    "collapsed": false
   },
   "outputs": [],
   "source": [
    "result <- predict_rbm(rbm1, training_x);"
   ]
  },
  {
   "cell_type": "code",
   "execution_count": 28,
   "metadata": {
    "collapsed": false,
    "scrolled": true
   },
   "outputs": [
    {
     "name": "stdout",
     "output_type": "stream",
     "text": [
      "List of 2\n",
      " $ activations   : num [1:60000, 1:30] 0.971 0.981 0.986 0.595 0.947 ...\n",
      " $ reconstruction: num [1:60000, 1:784] 0.003689 0.007715 -0.001805 -0.00107 0.000648 ...\n"
     ]
    }
   ],
   "source": [
    "str(result);"
   ]
  },
  {
   "cell_type": "markdown",
   "metadata": {},
   "source": [
    "### Native R CRBMs: the Motion example"
   ]
  },
  {
   "cell_type": "markdown",
   "metadata": {},
   "source": [
    "#### Load Dataset"
   ]
  },
  {
   "cell_type": "code",
   "execution_count": 29,
   "metadata": {
    "collapsed": true
   },
   "outputs": [],
   "source": [
    "load_data <- function(filename)\n",
    "{\n",
    "    mat_dict <- readRDS(filename);\n",
    "    Motion <- mat_dict[['Motion']];\n",
    "\n",
    "    n_seq <- length(Motion);\n",
    "\n",
    "    # assume data is MIT format for now\n",
    "    indx <- c(1:9, 14, 19:21, 26, 31:33, 38, 43:45, 50, 55:57, 61:63, 67:69, 73:75,\n",
    "                79:81, 85:87, 91:93, 97:99, 103:105);\n",
    "\n",
    "    ##row1 <- Motion[[c(1,1)]][1,];\n",
    "    ##offsets <- array(row1[c(10:12, 16:18, 22:24, 28:30, 34:36, 40:42, 46:48, 52:54,\n",
    "    ##            58:60, 64:66, 70:72, 76:78, 82:84, 88:90, 94:96, 100:102,\n",
    "    ##            106:108)], c(3, length(row1)/3) );\n",
    "\n",
    "    # collapse sequences\n",
    "    batchdata <- rbind(Motion[[c(1,1)]][,indx],\n",
    "                       Motion[[c(2,1)]][,indx],\n",
    "                       Motion[[c(3,1)]][,indx]);\n",
    "    data_mean <- colMeans(batchdata);\n",
    "    data_std <- apply(batchdata, 2, sd);\n",
    "\n",
    "    batchdata <- t((t(batchdata) - data_mean) / data_std);\n",
    "\n",
    "    # get sequence lengths\n",
    "    seqlen <- sapply(1:3, function(x) nrow(Motion[[c(x,1)]]));\n",
    "\n",
    "    list(batchdata = batchdata, seqlen = seqlen, data_mean = data_mean, data_std = data_std);\n",
    "}"
   ]
  },
  {
   "cell_type": "code",
   "execution_count": 30,
   "metadata": {
    "collapsed": false
   },
   "outputs": [],
   "source": [
    "dataset <- load_data('../datasets/motion.rds');"
   ]
  },
  {
   "cell_type": "code",
   "execution_count": 31,
   "metadata": {
    "collapsed": false
   },
   "outputs": [
    {
     "name": "stdout",
     "output_type": "stream",
     "text": [
      "List of 4\n",
      " $ batchdata: num [1:3826, 1:49] -0.258 -0.23 -0.134 -0.234 -0.163 ...\n",
      " $ seqlen   : int [1:3] 438 260 3128\n",
      " $ data_mean: num [1:49] 1.58179 1.5854 0.00448 36.99363 -1.43077 ...\n",
      " $ data_std : num [1:49] 0.0537 0.0896 0.0403 14.3277 10.0685 ...\n"
     ]
    }
   ],
   "source": [
    "str(dataset)"
   ]
  },
  {
   "cell_type": "markdown",
   "metadata": {},
   "source": [
    "#### Train the CRBM\n",
    "\n",
    "Note: **dataset** must be a list containing **batchdata** and **seqlen**"
   ]
  },
  {
   "cell_type": "code",
   "execution_count": 32,
   "metadata": {
    "collapsed": false
   },
   "outputs": [
    {
     "name": "stdout",
     "output_type": "stream",
     "text": [
      "[1] \"Training epoch 1, cost is 54.9266659517407\"\n",
      "[1] \"Training epoch 51, cost is 11.5533993612192\"\n",
      "[1] \"Training epoch 101, cost is 10.3986884078762\"\n",
      "[1] \"Training epoch 151, cost is 9.92805707809637\"\n",
      "[1] \"Training took 2.03153454860051\"\n"
     ]
    },
    {
     "data": {
      "text/plain": [
       "Time difference of 2.031742 mins"
      ]
     },
     "metadata": {},
     "output_type": "display_data"
    }
   ],
   "source": [
    "start.time <- Sys.time()\n",
    "\n",
    "crbm <- train_crbm (dataset,\n",
    "                    batch_size = 100,\n",
    "                    n_hidden = 100,\n",
    "                    delay = 6,\n",
    "                    training_epochs = 200,\n",
    "                    learning_rate = 1e-3,\n",
    "                    momentum = 0.5,\n",
    "                    rand_seed = 1234\n",
    ");\n",
    "\n",
    "end.time <- Sys.time()\n",
    "time.taken <- end.time - start.time\n",
    "time.taken"
   ]
  },
  {
   "cell_type": "markdown",
   "metadata": {},
   "source": [
    "#### Predict using the CRBM\n",
    "\n",
    "There are two functions for prediction:\n",
    "* **predict_crbm** : receives the data and the history sequence for each data row, and passes it through the CRBM.\n",
    "* **simulate_serie** : receives a sequence, and it builds the history assuming that rows are consecutive in time. After that, it passes it through the CRBM. (This is in crbm_series.R file)"
   ]
  },
  {
   "cell_type": "code",
   "execution_count": 33,
   "metadata": {
    "collapsed": false
   },
   "outputs": [],
   "source": [
    "results1 <- simulate_serie_crbm(crbm, dataset$batchdata);"
   ]
  },
  {
   "cell_type": "code",
   "execution_count": 34,
   "metadata": {
    "collapsed": false
   },
   "outputs": [
    {
     "name": "stdout",
     "output_type": "stream",
     "text": [
      "List of 4\n",
      " $ batchdata            : num [1:3826, 1:49] -0.258 -0.23 -0.134 -0.234 -0.163 ...\n",
      " $ activation.matrix    : num [1:3820, 1:100] 0.514 0.509 0.488 0.478 0.503 ...\n",
      " $ activation.bin.matrix: num [1:3820, 1:100] 1 1 0 0 1 0 0 0 0 0 ...\n",
      "  ..- attr(*, \"dimnames\")=List of 2\n",
      "  .. ..$ : NULL\n",
      "  .. ..$ : NULL\n",
      " $ reconstruction.matrix: num [1:3820, 1:49] -0.1126 -0.2372 -0.2215 -0.1531 -0.0389 ...\n"
     ]
    }
   ],
   "source": [
    "str(results1)"
   ]
  },
  {
   "cell_type": "markdown",
   "metadata": {},
   "source": [
    "#### Forecasting using the CRBM\n",
    "\n",
    "Note: here the forecasting function is **predict_crbm**"
   ]
  },
  {
   "cell_type": "code",
   "execution_count": 35,
   "metadata": {
    "collapsed": false
   },
   "outputs": [],
   "source": [
    "batchdata <- dataset$batchdata;\n",
    "\n",
    "# pick some starting points for each sequence\n",
    "data_idx <- c(100, 200, 400, 600);\n",
    "orig_data <- batchdata[data_idx,];\n",
    "\n",
    "hist_idx <- c(sapply(data_idx, function(x) x - 1:crbm$delay));\n",
    "orig_history <- t(array(as.vector(t(batchdata[hist_idx,])), c(crbm$delay * crbm$n_visible, length(data_idx))));\n",
    "\n",
    "generated_series.aux <- forecast_crbm(crbm, orig_data, orig_history, n_samples = 100, n_gibbs = 30);\n",
    "\n",
    "# append initialization\n",
    "library(abind)\n",
    "oh.temp <- aperm(array(as.vector(orig_history), c(length(data_idx), crbm$n_visible, crbm$delay)),c(1,3,2));\n",
    "generated_series <- abind(oh.temp[,crbm$delay:1,], generated_series.aux, along = 2);"
   ]
  },
  {
   "cell_type": "code",
   "execution_count": 36,
   "metadata": {
    "collapsed": false,
    "scrolled": true
   },
   "outputs": [
    {
     "name": "stdout",
     "output_type": "stream",
     "text": [
      " num [1:4, 1:106, 1:49] 1.846 -1.23 1.188 -0.295 2.144 ...\n",
      " - attr(*, \"dimnames\")=List of 3\n",
      "  ..$ : NULL\n",
      "  ..$ : NULL\n",
      "  ..$ : NULL\n"
     ]
    }
   ],
   "source": [
    "str(generated_series)"
   ]
  },
  {
   "cell_type": "markdown",
   "metadata": {},
   "source": [
    "#### Plot first dimension of each sequence"
   ]
  },
  {
   "cell_type": "code",
   "execution_count": 37,
   "metadata": {
    "collapsed": false
   },
   "outputs": [
    {
     "data": {
      "image/png": "[encoded data removed]",
      "text/plain": [
       "plot without title"
      ]
     },
     "metadata": {},
     "output_type": "display_data"
    }
   ],
   "source": [
    "par(mfrow = c(ceiling(length(data_idx)/2),2));\n",
    "for (i in 1:length(data_idx))\n",
    "{\n",
    "    start <- data_idx[i];\n",
    "\n",
    "    plot.true <- batchdata[(start - crbm$delay):(start + 100 - crbm$delay - 1), 2];\n",
    "    plot.pred <- generated_series[i, 1:100, 2];\n",
    "\n",
    "    plot(plot.true, col = \"blue\", type = \"l\", lty = 2, xlab = \"\", ylab = data_idx[i],\n",
    "         xlim = c(-10,100), ylim = c(min(plot.true, plot.pred),max(plot.true, plot.pred)));\n",
    "    lines(plot.pred, col = \"green\");\n",
    "    legend(\"topleft\", legend = c(\"True\", \"Predicted\"), col = c(\"blue\",\"green\"),\n",
    "           lty = c(2,1), cex = 0.75, y.intersp = 1);\n",
    "}"
   ]
  },
  {
   "cell_type": "markdown",
   "metadata": {},
   "source": [
    "### Native R CNNs: the MNIST example (with a revenge)"
   ]
  },
  {
   "cell_type": "markdown",
   "metadata": {},
   "source": [
    "#### Load Dataset"
   ]
  },
  {
   "cell_type": "code",
   "execution_count": 38,
   "metadata": {
    "collapsed": true
   },
   "outputs": [],
   "source": [
    "mnist <- readRDS(\"../datasets/mnist.rds\");"
   ]
  },
  {
   "cell_type": "code",
   "execution_count": 39,
   "metadata": {
    "collapsed": true
   },
   "outputs": [],
   "source": [
    "img_size <- c(28,28);\n",
    "\n",
    "train <- mnist$train;\n",
    "training_x <- array(train$x, c(nrow(train$x), 1, img_size)) / 255;\n",
    "training_y <- binarization(train$y);\n",
    "\n",
    "test <- mnist$test;\n",
    "testing_x <- array(test$x, c(nrow(test$x), 1, img_size)) / 255;\n",
    "testing_y <- binarization(test$y);\n",
    "\n",
    "dataset <- training_x[1:1000,,,, drop=FALSE];\n",
    "targets <- training_y[1:1000,, drop=FALSE];\n",
    "\n",
    "newdata <- testing_x[1:1000,,,, drop=FALSE];"
   ]
  },
  {
   "cell_type": "markdown",
   "metadata": {},
   "source": [
    "#### Prepare the Convolutional MLP Network"
   ]
  },
  {
   "cell_type": "code",
   "execution_count": 40,
   "metadata": {
    "collapsed": true
   },
   "outputs": [],
   "source": [
    "batch_size <- 10;\n",
    "\n",
    "border_mode <- 2;\n",
    "filter_size <- 5;\n",
    "\n",
    "win_size <- 3;\n",
    "stride <- 2;"
   ]
  },
  {
   "cell_type": "code",
   "execution_count": 41,
   "metadata": {
    "collapsed": true
   },
   "outputs": [],
   "source": [
    "layers <- list(\n",
    "    create_conv(n_channels = 1, n_filters = 4, filter_size = 5, scale = 0.1),\n",
    "    create_pool(win_size = 3, stride = 2),\n",
    "    create_relu(),\n",
    "    create_conv(n_channels = 4, n_filters = 16, filter_size = 5, scale = 0.1),\n",
    "    create_pool(win_size = 3, stride = 2),\n",
    "    create_relu(),\n",
    "    create_flat(),\n",
    "    create_line(n_visible = 784, n_hidden = 64, scale = 0.01),\n",
    "    create_relu(),\n",
    "    create_line(n_visible = 64, n_hidden = 10, scale = 0.1),\n",
    "    create_soft()\n",
    ");"
   ]
  },
  {
   "cell_type": "markdown",
   "metadata": {},
   "source": [
    "#### Run the CNN"
   ]
  },
  {
   "cell_type": "code",
   "execution_count": 42,
   "metadata": {
    "collapsed": false
   },
   "outputs": [
    {
     "name": "stdout",
     "output_type": "stream",
     "text": [
      "[1] \"Epoch 1 : Mean Loss 2.67100944150687\"\n",
      "[1] \"Epoch 1 took 0.631250325838725 minutes\"\n",
      "[1] \"Epoch 2 : Mean Loss 2.67100930689183\"\n",
      "[1] \"Epoch 2 took 0.580683290958405 minutes\"\n",
      "[1] \"Epoch 3 : Mean Loss 2.67100932558078\"\n",
      "[1] \"Epoch 3 took 0.578489255905151 minutes\"\n"
     ]
    },
    {
     "data": {
      "text/plain": [
       "Time difference of 1.7905 mins"
      ]
     },
     "metadata": {},
     "output_type": "display_data"
    }
   ],
   "source": [
    "start.time <- Sys.time()\n",
    "\n",
    "cnn1 <- train_cnn(training_x = dataset,\n",
    "                  training_y = targets,\n",
    "                  layers = layers,\n",
    "                  batch_size = batch_size,\n",
    "                  training_epochs = 3,\n",
    "                  learning_rate = 1e-3,\n",
    "                  rand_seed = 1234\n",
    ");\n",
    "\n",
    "end.time <- Sys.time()\n",
    "time.taken <- end.time - start.time\n",
    "time.taken"
   ]
  },
  {
   "cell_type": "code",
   "execution_count": 43,
   "metadata": {
    "collapsed": false
   },
   "outputs": [
    {
     "name": "stdout",
     "output_type": "stream",
     "text": [
      "List of 2\n",
      " $     :List of 2\n",
      "  ..$ layers    :List of 11\n",
      "  .. ..$ :List of 15\n",
      "  .. .. ..$ n_channels : num 1\n",
      "  .. .. ..$ n_filters  : num 4\n",
      "  .. .. ..$ filter_size: num 5\n",
      "  .. .. ..$ w_shape    : num [1:4] 4 1 5 5\n",
      "  .. .. ..$ W          : num [1:4, 1, 1:5, 1:5] -0.0355 0.1026 0.0818 -0.0216 -0.0231 ...\n",
      "  .. .. ..$ b          : num [1, 1:4, 1, 1] 2.75e-04 -2.69e-04 1.18e-03 -2.09e-06\n",
      "  .. .. ..$ padding    : num [1:2] 2 2\n",
      "  .. .. ..$ pnames     :function ()  \n",
      "  .. .. ..$ gnames     :function ()  \n",
      "  .. .. ..$ forward    :function (conv, x)  \n",
      "  .. .. ..$ backward   :function (conv, dy)  \n",
      "  .. .. ..$ get_updates:function (conv, lr)  \n",
      "  .. .. ..$ x          : num [1:10, 1, 1:28, 1:28] 0 0 0 0 0 0 0 0 0 0 ...\n",
      "  .. .. ..$ grad_W     : num [1:4, 1, 1:5, 1:5] -6.83e-05 2.92e-04 -1.70e-03 1.01e-04 -2.24e-04 ...\n",
      "  .. .. ..$ grad_b     : num [1, 1:4, 1, 1] -0.0025 -0.003627 0.003709 -0.000361\n",
      "  .. ..$ :List of 9\n",
      "  .. .. ..$ win_size   : num 3\n",
      "  .. .. ..$ stride     : num 2\n",
      "  .. .. ..$ padding    : num 1\n",
      "  .. .. ..$ pnames     :function (pool)  \n",
      "  .. .. ..$ gnames     :function (pool)  \n",
      "  .. .. ..$ forward    :function (pool, imgs)  \n",
      "  .. .. ..$ backward   :function (pool, dy)  \n",
      "  .. .. ..$ get_updates:function (pool, lr)  \n",
      "  .. .. ..$ imgs       : num [1:10, 1:4, 1:28, 1:28] 0.000272 0.000272 0.000272 0.000272 0.000272 ...\n",
      "  .. ..$ :List of 6\n",
      "  .. .. ..$ pnames     :function (relu)  \n",
      "  .. .. ..$ gnames     :function (relu)  \n",
      "  .. .. ..$ forward    :function (relu, x)  \n",
      "  .. .. ..$ backward   :function (relu, dy)  \n",
      "  .. .. ..$ get_updates:function (relu, lr)  \n",
      "  .. .. ..$ a          : num [1:10, 1:4, 1:14, 1:14] 0.000272 0.000272 0.000272 0.000272 0.000272 ...\n",
      "  .. ..$ :List of 15\n",
      "  .. .. ..$ n_channels : num 4\n",
      "  .. .. ..$ n_filters  : num 16\n",
      "  .. .. ..$ filter_size: num 5\n",
      "  .. .. ..$ w_shape    : num [1:4] 16 4 5 5\n",
      "  .. .. ..$ W          : num [1:16, 1:4, 1:5, 1:5] 0.0783 -0.2713 0.0697 0.0321 0.1032 ...\n",
      "  .. .. ..$ b          : num [1, 1:16, 1, 1] -0.000782 0.000661 -0.000376 0.001985 0.00027 ...\n",
      "  .. .. ..$ padding    : num [1:2] 2 2\n",
      "  .. .. ..$ pnames     :function ()  \n",
      "  .. .. ..$ gnames     :function ()  \n",
      "  .. .. ..$ forward    :function (conv, x)  \n",
      "  .. .. ..$ backward   :function (conv, dy)  \n",
      "  .. .. ..$ get_updates:function (conv, lr)  \n",
      "  .. .. ..$ x          : num [1:10, 1:4, 1:14, 1:14] 0.000272 0.000272 0.000272 0.000272 0.000272 ...\n",
      "  .. .. ..$ grad_W     : num [1:16, 1:4, 1:5, 1:5] 1.79e-05 1.54e-04 3.50e-05 -1.26e-05 -8.08e-05 ...\n",
      "  .. .. ..$ grad_b     : num [1, 1:16, 1, 1] 0.004905 0.000957 -0.002651 0.000526 -0.004632 ...\n",
      "  .. ..$ :List of 9\n",
      "  .. .. ..$ win_size   : num 3\n",
      "  .. .. ..$ stride     : num 2\n",
      "  .. .. ..$ padding    : num 1\n",
      "  .. .. ..$ pnames     :function (pool)  \n",
      "  .. .. ..$ gnames     :function (pool)  \n",
      "  .. .. ..$ forward    :function (pool, imgs)  \n",
      "  .. .. ..$ backward   :function (pool, dy)  \n",
      "  .. .. ..$ get_updates:function (pool, lr)  \n",
      "  .. .. ..$ imgs       : num [1:10, 1:16, 1:14, 1:14] -0.0011 -0.0011 0.02707 -0.0011 0.00147 ...\n",
      "  .. ..$ :List of 6\n",
      "  .. .. ..$ pnames     :function (relu)  \n",
      "  .. .. ..$ gnames     :function (relu)  \n",
      "  .. .. ..$ forward    :function (relu, x)  \n",
      "  .. .. ..$ backward   :function (relu, dy)  \n",
      "  .. .. ..$ get_updates:function (relu, lr)  \n",
      "  .. .. ..$ a          : num [1:10, 1:16, 1:7, 1:7] 0.01032 0.00944 0.01571 0 0.00763 ...\n",
      "  .. ..$ :List of 6\n",
      "  .. .. ..$ pnames     :function (flat)  \n",
      "  .. .. ..$ gnames     :function (flat)  \n",
      "  .. .. ..$ forward    :function (flat, x)  \n",
      "  .. .. ..$ backward   :function (flat, dy)  \n",
      "  .. .. ..$ get_updates:function (flat, lr)  \n",
      "  .. .. ..$ shape      : int [1:4] 10 16 7 7\n",
      "  .. ..$ :List of 12\n",
      "  .. .. ..$ W          : num [1:64, 1:784] 0.011931 -0.006472 -0.005499 -0.020353 0.000768 ...\n",
      "  .. .. ..$ b          : num [1, 1:64] 0.001154 -0.000863 0.001107 0.001158 0.003773 ...\n",
      "  .. .. ..$ n_visible  : num 784\n",
      "  .. .. ..$ n_hidden   : num 64\n",
      "  .. .. ..$ pnames     :function (line)  \n",
      "  .. .. ..$ gnames     :function (line)  \n",
      "  .. .. ..$ forward    :function (line, x)  \n",
      "  .. .. ..$ backward   :function (line, dy)  \n",
      "  .. .. ..$ get_updates:function (line, lr)  \n",
      "  .. .. ..$ x          : num [1:10, 1:784] 0.01032 0.00944 0.01571 0 0.00763 ...\n",
      "  .. .. ..$ grad_W     : num [1:64, 1:784] 4.74e-05 2.58e-05 1.62e-04 1.30e-04 -3.54e-04 ...\n",
      "  .. .. ..$ grad_b     : num [1, 1:64] -2.90e-03 3.42e-03 1.96e-04 -2.17e-03 -9.94e-05 ...\n",
      "  .. ..$ :List of 6\n",
      "  .. .. ..$ pnames     :function (relu)  \n",
      "  .. .. ..$ gnames     :function (relu)  \n",
      "  .. .. ..$ forward    :function (relu, x)  \n",
      "  .. .. ..$ backward   :function (relu, dy)  \n",
      "  .. .. ..$ get_updates:function (relu, lr)  \n",
      "  .. .. ..$ a          : num [1:10, 1:64] 0.00409 0.00248 0.00233 0.00267 0.00187 ...\n",
      "  .. ..$ :List of 12\n",
      "  .. .. ..$ W          : num [1:10, 1:64] -0.0629 -0.1096 0.1798 0.0223 0.092 ...\n",
      "  .. .. ..$ b          : num [1, 1:10] 0.0047 0.00492 0.00468 0.00473 0.00477 ...\n",
      "  .. .. ..$ n_visible  : num 64\n",
      "  .. .. ..$ n_hidden   : num 10\n",
      "  .. .. ..$ pnames     :function (line)  \n",
      "  .. .. ..$ gnames     :function (line)  \n",
      "  .. .. ..$ forward    :function (line, x)  \n",
      "  .. .. ..$ backward   :function (line, dy)  \n",
      "  .. .. ..$ get_updates:function (line, lr)  \n",
      "  .. .. ..$ x          : num [1:10, 1:64] 0.00409 0.00248 0.00233 0.00267 0.00187 ...\n",
      "  .. .. ..$ grad_W     : num [1:10, 1:64] -5.00e-05 -5.16e-05 -5.00e-05 -5.00e-05 -5.02e-05 ...\n",
      "  .. .. ..$ grad_b     : num [1, 1:10] 3.47e-04 -4.14e-04 2.00e-04 2.83e-04 6.06e-05 ...\n",
      "  .. ..$ :List of 6\n",
      "  .. .. ..$ pnames     :function (soft)  \n",
      "  .. .. ..$ gnames     :function (soft)  \n",
      "  .. .. ..$ forward    :function (soft, x)  \n",
      "  .. .. ..$ backward   :function (soft, dy)  \n",
      "  .. .. ..$ get_updates:function (soft, lr)  \n",
      "  .. .. ..$ a          : num [1:10, 1:10] 0.1004 0.1003 0.1005 0.0999 0.1005 ...\n",
      "  ..$ loss_layer:List of 5\n",
      "  .. ..$ pnames     :function (cell)  \n",
      "  .. ..$ gnames     :function (cell)  \n",
      "  .. ..$ forward    :function (cell, x, targets)  \n",
      "  .. ..$ backward   :function (cell, dy, targets)  \n",
      "  .. ..$ get_updates:function (cell, lr)  \n",
      " $ loss: num 2.67\n"
     ]
    }
   ],
   "source": [
    "str(cnn1)"
   ]
  }
 ],
 "metadata": {
  "kernelspec": {
   "display_name": "R",
   "language": "R",
   "name": "ir"
  },
  "language_info": {
   "codemirror_mode": "r",
   "file_extension": ".r",
   "mimetype": "text/x-r-source",
   "name": "R",
   "pygments_lexer": "r",
   "version": "3.3.0"
  }
 },
 "nbformat": 4,
 "nbformat_minor": 1
}
