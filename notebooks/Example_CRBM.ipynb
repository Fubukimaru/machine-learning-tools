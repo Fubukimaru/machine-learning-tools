{
 "cells": [
  {
   "cell_type": "markdown",
   "metadata": {},
   "source": [
    "# Using RRBM: Examples of CRBM networks\n",
    "\n",
    "1. using the compiled libraries (GSL)\n",
    "2. using the native R libraries"
   ]
  },
  {
   "cell_type": "markdown",
   "metadata": {},
   "source": [
    "#### Load Libraries"
   ]
  },
  {
   "cell_type": "code",
   "execution_count": 1,
   "metadata": {
    "collapsed": true
   },
   "outputs": [],
   "source": [
    "library(rrbm);"
   ]
  },
  {
   "cell_type": "markdown",
   "metadata": {},
   "source": [
    "## CRBMs: the Motion example"
   ]
  },
  {
   "cell_type": "markdown",
   "metadata": {},
   "source": [
    "### Load Dataset"
   ]
  },
  {
   "cell_type": "markdown",
   "metadata": {},
   "source": [
    "A fragment of the Motion Dataset (by Eugene Hu) is included in the package for testing purposes. It can be loaded as \"motionfrag\", and it is normalized"
   ]
  },
  {
   "cell_type": "code",
   "execution_count": 2,
   "metadata": {
    "collapsed": false
   },
   "outputs": [],
   "source": [
    "data(motionfrag)"
   ]
  },
  {
   "cell_type": "markdown",
   "metadata": {},
   "source": [
    "### Train the CRBM"
   ]
  },
  {
   "cell_type": "markdown",
   "metadata": {},
   "source": [
    "The CRBM receives as inputs:\n",
    "* batchdata: the datasets to be trained with. This dataset contains time series, each in order (from older to newer inputs). Batchdata can contain several series, concatenated.\n",
    "* seqlen: the lenght of each concatenated sequence in batchdata. The sum of seqlen has to match the length of batchdata\n",
    "\n",
    "Also receives the following hyperparameters:\n",
    "* batch_size: the size of each training mini-batch\n",
    "* n_hidden: the number of hidden units\n",
    "* delay: the size of the history for each input. When training, the first _d_ inputs will be used for history of element _d+1_\n",
    "* training_epochs: the number of training epochs\n",
    "* learning_rate: the learning rate for Gradient Descent\n",
    "* momentum: the momentum for Gradient Descent\n",
    "* rand_seed: the random seed. CRBMs are stochastic, and each run can provide different results"
   ]
  },
  {
   "cell_type": "code",
   "execution_count": 3,
   "metadata": {
    "collapsed": false
   },
   "outputs": [],
   "source": [
    "crbm_mfrag <- train.crbm(motionfrag$batchdata,\n",
    "                         motionfrag$seqlen,\n",
    "                         batch_size = 100,\n",
    "                         n_hidden = 100,\n",
    "                         delay = 6,\n",
    "                         training_epochs = 10,\n",
    "                         learning_rate = 1e-3,\n",
    "                         momentum = 0.5,\n",
    "                         rand_seed = 1234\n",
    ");"
   ]
  },
  {
   "cell_type": "markdown",
   "metadata": {},
   "source": [
    "### Predict (pass through) using the CRBM"
   ]
  },
  {
   "cell_type": "markdown",
   "metadata": {},
   "source": [
    "There are 3 methods: predict.crbm, forward.crbm and backward.crbm\n",
    "\n",
    "* predict.crbm: passes the dataset forward and backward through the CRBM.\n",
    "  * It assumes that the input is a time series. It takes the first _d_ elements (_d_ as in _delay_) as the history of _d+1_, then slides the window towards the last input.\n",
    "  * The first _d_ inputs receive an array of zeros as activation and reconstruction\n",
    "  * The time series goes from _1_ (oldest input) to _n_ (newest input)\n",
    "  * The input is considered a SINGLE time series"
   ]
  },
  {
   "cell_type": "code",
   "execution_count": 4,
   "metadata": {
    "collapsed": false
   },
   "outputs": [
    {
     "name": "stdout",
     "output_type": "stream",
     "text": [
      "List of 2\n",
      " $ reconstruction: num [1:438, 1:49] 0 0 0 0 0 ...\n",
      " $ activation    : num [1:438, 1:100] 0 0 0 0 0 ...\n"
     ]
    }
   ],
   "source": [
    "first_sequence <- motionfrag$batchdata[1:motionfrag$seqlen[1],];\n",
    "\n",
    "crbm_pred1 <- predict(crbm_mfrag, first_sequence);\n",
    "str(crbm_pred1);"
   ]
  },
  {
   "cell_type": "markdown",
   "metadata": {},
   "source": [
    "* forward.crbm: passes the dataset forward only, returning activations only.\n",
    "  * It also considers the input as a time series, and builds the history as _predict.crbm_\n",
    "  * The first _d_ inputs receive an array of zeros as activation\n",
    "  * The time series goes from _1_ (oldest input) to _n_ (newest input)"
   ]
  },
  {
   "cell_type": "code",
   "execution_count": 5,
   "metadata": {
    "collapsed": false
   },
   "outputs": [
    {
     "name": "stdout",
     "output_type": "stream",
     "text": [
      " num [1:438, 1:100] 0 0 0 0 0 ...\n"
     ]
    }
   ],
   "source": [
    "first_sequence <- motionfrag$batchdata[1:motionfrag$seqlen[1],];\n",
    "\n",
    "act_1 <- forward.crbm(crbm_mfrag, first_sequence);\n",
    "str(act_1);"
   ]
  },
  {
   "cell_type": "markdown",
   "metadata": {},
   "source": [
    "* backward.crbm: passes a set of activations back the CRBM, returning the reconstructions.\n",
    "  * It requires to receive the _history_ for each element.\n",
    "  * It considers the input as the activations of a time series, so for an input of _n_ activations, requires a history dataset of _d+n-1_ inputs\n",
    "  * The element _1_ of activation relates to _history 1:d_, then slides the window towards the last input."
   ]
  },
  {
   "cell_type": "code",
   "execution_count": 6,
   "metadata": {
    "collapsed": false
   },
   "outputs": [
    {
     "name": "stdout",
     "output_type": "stream",
     "text": [
      " num [1:432, 1:49] -0.214 -0.247 -0.244 -0.245 -0.192 ...\n"
     ]
    }
   ],
   "source": [
    "activations <- act_1[(crbm_mfrag$delay+1):nrow(act_1),];\n",
    "corresp_hist <- motionfrag$batchdata[1:motionfrag$seqlen[1]-1,];\n",
    "\n",
    "rec_1 <- backward.crbm(crbm_mfrag, activations, corresp_hist);\n",
    "str(rec_1);"
   ]
  },
  {
   "cell_type": "markdown",
   "metadata": {},
   "source": [
    "### Forecast using the CRBM"
   ]
  },
  {
   "cell_type": "markdown",
   "metadata": {},
   "source": [
    "Function forecast.crbm **predicts** future inputs for a time series. It uses the last element of the input series, plus the _n-1:n-d_ elements as _history_, to forecast the inputs for the expected *n\\_samples*"
   ]
  },
  {
   "cell_type": "code",
   "execution_count": 7,
   "metadata": {
    "collapsed": false
   },
   "outputs": [
    {
     "name": "stdout",
     "output_type": "stream",
     "text": [
      "List of 1\n",
      " $ generated: num [1:50, 1:49] -0.1736 -0.2168 -0.1319 -0.1374 -0.0865 ...\n"
     ]
    }
   ],
   "source": [
    "first_sequence <- motionfrag$batchdata[1:motionfrag$seqlen[1],];\n",
    "\n",
    "crbm_pred2 <- forecast.crbm(crbm_mfrag, first_sequence, n_samples = 50);\n",
    "str(crbm_pred2);"
   ]
  },
  {
   "cell_type": "markdown",
   "metadata": {},
   "source": [
    "### Update / Re-train a CRBM"
   ]
  },
  {
   "cell_type": "markdown",
   "metadata": {},
   "source": [
    "You can pass a trained CRBM as initial values for a new CRBM. The properties of the CRBM must match with the CRBM passed as **init_crbm**. The function returns a new updated copy of the old CRBM"
   ]
  },
  {
   "cell_type": "code",
   "execution_count": 8,
   "metadata": {
    "collapsed": true
   },
   "outputs": [],
   "source": [
    "crbm_mf2 <- train.crbm(motionfrag$batchdata,\n",
    "                       motionfrag$seqlen,\n",
    "                       batch_size = 100,\n",
    "                       n_hidden = 100,\n",
    "                       delay = 6,\n",
    "                       training_epochs = 10,\n",
    "                       learning_rate = 1e-3,\n",
    "                       momentum = 0.5,\n",
    "                       rand_seed = 1234,\n",
    "                       init_crbm = crbm_mfrag\n",
    ");"
   ]
  },
  {
   "cell_type": "markdown",
   "metadata": {},
   "source": [
    "## Using the R native functions"
   ]
  },
  {
   "cell_type": "code",
   "execution_count": 9,
   "metadata": {
    "collapsed": true
   },
   "outputs": [],
   "source": [
    "rm (list = ls());"
   ]
  },
  {
   "cell_type": "markdown",
   "metadata": {},
   "source": [
    "### Load the R sources"
   ]
  },
  {
   "cell_type": "code",
   "execution_count": 10,
   "metadata": {
    "collapsed": false
   },
   "outputs": [],
   "source": [
    "setwd(\"..\");\n",
    "source(\"./crbm.R\");\n",
    "source(\"./crbm_series.R\");\n",
    "setwd(\"notebooks\");"
   ]
  },
  {
   "cell_type": "markdown",
   "metadata": {},
   "source": [
    "### Load Dataset"
   ]
  },
  {
   "cell_type": "markdown",
   "metadata": {},
   "source": [
    "To load the \"motionfrag\" data without using the compiled package, you can load and prepare it from the RDS file, using the following function.\n",
    "\n",
    "The function will return a list with the **batchdata**, the **seqlen**, and the **data_mean** and **data_std** of the data once normalized"
   ]
  },
  {
   "cell_type": "code",
   "execution_count": 11,
   "metadata": {
    "collapsed": true
   },
   "outputs": [],
   "source": [
    "load_data <- function(filename)\n",
    "{\n",
    "    mat_dict <- readRDS(filename);\n",
    "    Motion <- mat_dict[['Motion']];\n",
    "\n",
    "    n_seq <- length(Motion);\n",
    "\n",
    "    # assume data is MIT format for now\n",
    "    indx <- c(1:9, 14, 19:21, 26, 31:33, 38, 43:45, 50, 55:57, 61:63, 67:69, 73:75,\n",
    "                79:81, 85:87, 91:93, 97:99, 103:105);\n",
    "\n",
    "    ##row1 <- Motion[[c(1,1)]][1,];\n",
    "    ##offsets <- array(row1[c(10:12, 16:18, 22:24, 28:30, 34:36, 40:42, 46:48, 52:54,\n",
    "    ##            58:60, 64:66, 70:72, 76:78, 82:84, 88:90, 94:96, 100:102,\n",
    "    ##            106:108)], c(3, length(row1)/3) );\n",
    "\n",
    "    # collapse sequences\n",
    "    batchdata <- rbind(Motion[[c(1,1)]][,indx],\n",
    "                       Motion[[c(2,1)]][,indx],\n",
    "                       Motion[[c(3,1)]][,indx]);\n",
    "    data_mean <- colMeans(batchdata);\n",
    "    data_std <- apply(batchdata, 2, sd);\n",
    "\n",
    "    batchdata <- t((t(batchdata) - data_mean) / data_std);\n",
    "\n",
    "    # get sequence lengths\n",
    "    seqlen <- sapply(1:3, function(x) nrow(Motion[[c(x,1)]]));\n",
    "\n",
    "    list(batchdata = batchdata, seqlen = seqlen, data_mean = data_mean, data_std = data_std);\n",
    "}"
   ]
  },
  {
   "cell_type": "code",
   "execution_count": 12,
   "metadata": {
    "collapsed": false
   },
   "outputs": [
    {
     "name": "stdout",
     "output_type": "stream",
     "text": [
      "List of 4\n",
      " $ batchdata: num [1:3826, 1:49] -0.258 -0.23 -0.134 -0.234 -0.163 ...\n",
      " $ seqlen   : int [1:3] 438 260 3128\n",
      " $ data_mean: num [1:49] 1.58179 1.5854 0.00448 36.99363 -1.43077 ...\n",
      " $ data_std : num [1:49] 0.0537 0.0896 0.0403 14.3277 10.0685 ...\n"
     ]
    }
   ],
   "source": [
    "dataset <- load_data('../datasets/motion.rds');\n",
    "str(dataset)"
   ]
  },
  {
   "cell_type": "markdown",
   "metadata": {},
   "source": [
    "### Train the CRBM\n",
    "\n",
    "In contrast to the packaged version, **dataset** must be a list containing **batchdata** and **seqlen**"
   ]
  },
  {
   "cell_type": "code",
   "execution_count": 13,
   "metadata": {
    "collapsed": false
   },
   "outputs": [
    {
     "name": "stdout",
     "output_type": "stream",
     "text": [
      "[1] \"Training epoch 1, cost is 26.9140663163529\"\n",
      "[1] \"Training epoch 51, cost is 5.66116568699741\"\n",
      "[1] \"Training epoch 101, cost is 5.09535731985935\"\n",
      "[1] \"Training epoch 151, cost is 4.86474796826722\"\n",
      "[1] \"Training took 1.32799452940623\"\n"
     ]
    }
   ],
   "source": [
    "crbm <- train_crbm (dataset,\n",
    "                    batch_size = 100,\n",
    "                    n_hidden = 100,\n",
    "                    delay = 6,\n",
    "                    training_epochs = 200,\n",
    "                    learning_rate = 1e-3,\n",
    "                    momentum = 0.5,\n",
    "                    rand_seed = 1234\n",
    ");"
   ]
  },
  {
   "cell_type": "markdown",
   "metadata": {},
   "source": [
    "### Predict (pass through) using the CRBM\n",
    "\n",
    "There are 3 methods: predict_crbm, forward_crbm and backward_crbm\n",
    "* predict_crbm: passes the dataset forward and backward through the CRBM (in the native version, predict is not an S3 function)\n",
    "  * It assumes that the input is a time series. It takes the first d elements (d as in delay) as the history of d+1, then slides the window towards the last input.\n",
    "  * The first d inputs receive an array of zeros as activation and reconstruction\n",
    "  * The time series goes from 1 (oldest input) to n (newest input)\n",
    "  * The input is considered a SINGLE time series"
   ]
  },
  {
   "cell_type": "code",
   "execution_count": 14,
   "metadata": {
    "collapsed": false
   },
   "outputs": [
    {
     "name": "stdout",
     "output_type": "stream",
     "text": [
      "List of 2\n",
      " $ activations   : num [1:432, 1:100] 0.514 0.509 0.488 0.478 0.503 ...\n",
      " $ reconstruction: num [1:432, 1:49] -0.1126 -0.2344 -0.2172 -0.1488 -0.0313 ...\n"
     ]
    }
   ],
   "source": [
    "first_sequence <- dataset$batchdata[1:dataset$seqlen[1],];\n",
    "\n",
    "crbm_pred1 <- predict_crbm(crbm, first_sequence);\n",
    "str(crbm_pred1);"
   ]
  },
  {
   "cell_type": "markdown",
   "metadata": {},
   "source": [
    "The native version also accepts the history to be passed as a parameter, then the batchdata will not be treated as time series, but as a set of inputs with its respective history to be treated.\n",
    "\n",
    "The _history_ parameter bust contain _d_ inputs, ordered from newest to older: for each input _i_ in batchdata, history contains _i_ for _t-1:t-d_ in one single row"
   ]
  },
  {
   "cell_type": "code",
   "execution_count": 15,
   "metadata": {
    "collapsed": false
   },
   "outputs": [
    {
     "name": "stdout",
     "output_type": "stream",
     "text": [
      "List of 2\n",
      " $ activations   : num [1:4, 1:100] 0.506 0.578 0.435 0.525 0.51 ...\n",
      " $ reconstruction: num [1:4, 1:49] 1.861 -1.847 0.994 0.368 -0.254 ...\n"
     ]
    }
   ],
   "source": [
    "batchdata <- dataset$batchdata;\n",
    "\n",
    "# pick some starting points for each sequence\n",
    "data_idx <- c(100, 200, 400, 600);\n",
    "orig_data <- batchdata[data_idx,];\n",
    "\n",
    "hist_idx <- c(sapply(data_idx, function(x) x - 1:crbm$delay));\n",
    "orig_history <- t(array(as.vector(t(batchdata[hist_idx,])), c(crbm$delay * crbm$n_visible, length(data_idx))));\n",
    "\n",
    "aux <- predict_crbm(crbm, orig_data, history = orig_history);\n",
    "str(aux);"
   ]
  },
  {
   "cell_type": "markdown",
   "metadata": {},
   "source": [
    "* forward.rbm: passes the dataset forward only, returning activations only.\n",
    "  * It also considers the input as a time series, and builds the history as predict_crbm\n",
    "  * The first d inputs receive an array of zeros as activation\n",
    "  * The time series goes from 1 (oldest input) to n (newest input)"
   ]
  },
  {
   "cell_type": "code",
   "execution_count": 16,
   "metadata": {
    "collapsed": false
   },
   "outputs": [
    {
     "name": "stdout",
     "output_type": "stream",
     "text": [
      " num [1:432, 1:100] 0.514 0.509 0.488 0.478 0.503 ...\n"
     ]
    }
   ],
   "source": [
    "first_sequence <- dataset$batchdata[1:dataset$seqlen[1],];\n",
    "\n",
    "act_1 <- forward_crbm(crbm, first_sequence);\n",
    "str(act_1);"
   ]
  },
  {
   "cell_type": "code",
   "execution_count": 17,
   "metadata": {
    "collapsed": false
   },
   "outputs": [
    {
     "name": "stdout",
     "output_type": "stream",
     "text": [
      " num [1:4, 1:100] 0.506 0.578 0.435 0.525 0.51 ...\n"
     ]
    }
   ],
   "source": [
    "batchdata <- dataset$batchdata;\n",
    "\n",
    "# pick some starting points for each sequence\n",
    "data_idx <- c(100, 200, 400, 600);\n",
    "orig_data <- batchdata[data_idx,];\n",
    "\n",
    "hist_idx <- c(sapply(data_idx, function(x) x - 1:crbm$delay));\n",
    "orig_history <- t(array(as.vector(t(batchdata[hist_idx,])), c(crbm$delay * crbm$n_visible, length(data_idx))));\n",
    "\n",
    "aux <- forward_crbm(crbm, orig_data, history = orig_history);\n",
    "str(aux);"
   ]
  },
  {
   "cell_type": "markdown",
   "metadata": {},
   "source": [
    "* backward.crbm: passes a set of activations back the CRBM, returning the reconstructions.\n",
    "  * It requires to receive the _history_ for each element.\n",
    "  * It considers the input as the activations of a time series, so for an input of _n_ activations, requires a history dataset of _d+n-1_ inputs\n",
    "  * The element _1_ of activation relates to _history 1:d_, then slides the window towards the last input."
   ]
  },
  {
   "cell_type": "code",
   "execution_count": 18,
   "metadata": {
    "collapsed": false
   },
   "outputs": [
    {
     "name": "stdout",
     "output_type": "stream",
     "text": [
      " num [1:426, 1:49] -0.1019 -0.2255 -0.2143 -0.1515 -0.0342 ...\n"
     ]
    }
   ],
   "source": [
    "activations <- act_1[(crbm$delay+1):nrow(act_1),];\n",
    "corresp_hist <- dataset$batchdata[1:dataset$seqlen[1]-1,];\n",
    "\n",
    "rec_1 <- backward_crbm(crbm, activations, corresp_hist);\n",
    "str(rec_1);"
   ]
  },
  {
   "cell_type": "markdown",
   "metadata": {},
   "source": [
    "### Forecasting using the CRBM"
   ]
  },
  {
   "cell_type": "markdown",
   "metadata": {},
   "source": [
    "In the native R version, the forecasting function allows to introduce data as a single time series (picking the newest element _n_ and generating history _n-1:n-d_ automatically), or introduce manually history, so original data is not treated as a same time series."
   ]
  },
  {
   "cell_type": "code",
   "execution_count": 19,
   "metadata": {
    "collapsed": false
   },
   "outputs": [
    {
     "name": "stdout",
     "output_type": "stream",
     "text": [
      " num [1, 1:50, 1:49] 1.77 1.79 1.53 1.23 1.16 ...\n"
     ]
    }
   ],
   "source": [
    "idx <- dataset$seqlen[1];\n",
    "first_sequence <- dataset$batchdata[1:idx,, drop=FALSE];\n",
    "\n",
    "crbm_pred2 <- forecast_crbm(crbm, orig_data = first_sequence, orig_history = NULL, n_samples = 50, n_gibbs = 30);\n",
    "str(crbm_pred2);"
   ]
  },
  {
   "cell_type": "markdown",
   "metadata": {},
   "source": [
    "And now here with independent series. Notice that the history must be \"hand crafted\", and admits several head series"
   ]
  },
  {
   "cell_type": "code",
   "execution_count": 20,
   "metadata": {
    "collapsed": false
   },
   "outputs": [
    {
     "name": "stdout",
     "output_type": "stream",
     "text": [
      " num [1:4, 1:106, 1:49] 1.846 -1.23 1.188 -0.295 2.144 ...\n"
     ]
    }
   ],
   "source": [
    "batchdata <- dataset$batchdata;\n",
    "\n",
    "# pick some starting points for each sequence\n",
    "data_idx <- c(100, 200, 400, 600);\n",
    "orig_data <- batchdata[data_idx,];\n",
    "\n",
    "hist_idx <- c(sapply(data_idx, function(x) x - 1:crbm$delay));\n",
    "orig_history <- t(array(as.vector(t(batchdata[hist_idx,])), c(crbm$delay * crbm$n_visible, length(data_idx))));\n",
    "                     \n",
    "generated_series.aux <- forecast_crbm(crbm, orig_data, orig_history, n_samples = 100, n_gibbs = 30);\n",
    "\n",
    "# append initialization\n",
    "library(abind)\n",
    "oh.temp <- aperm(array(as.vector(orig_history), c(length(data_idx), crbm$n_visible, crbm$delay)),c(1,3,2));\n",
    "generated_series <- abind(oh.temp[,crbm$delay:1,], generated_series.aux, along = 2);\n",
    "dimnames(generated_series) <- NULL;\n",
    "\n",
    "str(generated_series)"
   ]
  },
  {
   "cell_type": "markdown",
   "metadata": {},
   "source": [
    "#### Plot first dimension of each sequence"
   ]
  },
  {
   "cell_type": "code",
   "execution_count": null,
   "metadata": {
    "collapsed": false
   },
   "outputs": [],
   "source": [
    "par(mfrow = c(ceiling(length(data_idx)/2),2));\n",
    "for (i in 1:length(data_idx))\n",
    "{\n",
    "    start <- data_idx[i];\n",
    "\n",
    "    plot.true <- batchdata[(start - crbm$delay):(start + 100 - crbm$delay - 1), 2];\n",
    "    plot.pred <- generated_series[i, 1:100, 2];\n",
    "\n",
    "    plot(plot.true, col = \"blue\", type = \"l\", lty = 2, xlab = \"\", ylab = data_idx[i],\n",
    "         xlim = c(-10,100), ylim = c(min(plot.true, plot.pred),max(plot.true, plot.pred)));\n",
    "    lines(plot.pred, col = \"green\");\n",
    "    legend(\"topleft\", legend = c(\"True\", \"Predicted\"), col = c(\"blue\",\"green\"),\n",
    "           lty = c(2,1), cex = 0.75, y.intersp = 1);\n",
    "}"
   ]
  }
 ],
 "metadata": {
  "kernelspec": {
   "display_name": "R",
   "language": "R",
   "name": "ir"
  },
  "language_info": {
   "codemirror_mode": "r",
   "file_extension": ".r",
   "mimetype": "text/x-r-source",
   "name": "R",
   "pygments_lexer": "r",
   "version": "3.4.0"
  }
 },
 "nbformat": 4,
 "nbformat_minor": 1
}
