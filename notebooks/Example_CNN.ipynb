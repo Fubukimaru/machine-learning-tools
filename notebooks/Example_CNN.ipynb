{
 "cells": [
  {
   "cell_type": "markdown",
   "metadata": {},
   "source": [
    "# Using RCNN: Examples of CNN networks¶\n",
    "\n",
    "1. using the compiled libraries (GSL)\n",
    "2. using the native R libraries"
   ]
  },
  {
   "cell_type": "markdown",
   "metadata": {},
   "source": [
    "#### Load Libraries"
   ]
  },
  {
   "cell_type": "code",
   "execution_count": 1,
   "metadata": {
    "collapsed": true
   },
   "outputs": [],
   "source": [
    "library(rcnn);"
   ]
  },
  {
   "cell_type": "markdown",
   "metadata": {},
   "source": [
    "## CNNs: the MNIST example"
   ]
  },
  {
   "cell_type": "markdown",
   "metadata": {},
   "source": [
    "### Load Dataset\n",
    "\n",
    "* Previously it could be loaded through the RDS package.\n",
    "* Now, it is included in the package datasets as \"mnist\""
   ]
  },
  {
   "cell_type": "code",
   "execution_count": 2,
   "metadata": {
    "collapsed": true
   },
   "outputs": [],
   "source": [
    "data(mnist)"
   ]
  },
  {
   "cell_type": "code",
   "execution_count": 3,
   "metadata": {
    "collapsed": true
   },
   "outputs": [],
   "source": [
    "img_size <- c(28,28);\n",
    "\n",
    "training_x <- array(mnist$train$x, c(nrow(mnist$train$x), 1, img_size)) / 255;\n",
    "training_y <- binarization(mnist$train$y);\n",
    "\n",
    "testing_x <- array(mnist$test$x, c(nrow(mnist$test$x), 1, img_size)) / 255;\n",
    "testing_y <- binarization(mnist$test$y);"
   ]
  },
  {
   "cell_type": "markdown",
   "metadata": {},
   "source": [
    "Let's reduce the dataset size for this example"
   ]
  },
  {
   "cell_type": "code",
   "execution_count": 4,
   "metadata": {
    "collapsed": true
   },
   "outputs": [],
   "source": [
    "training_x <- training_x[1:1000,,,, drop=FALSE];\n",
    "training_y <- training_y[1:1000,, drop=FALSE];\n",
    "\n",
    "testing_x <- testing_x[1:1000,,,, drop=FALSE];\n",
    "testing_y <- testing_y[1:1000,, drop=FALSE];"
   ]
  },
  {
   "cell_type": "markdown",
   "metadata": {},
   "source": [
    "### Prepare the Network"
   ]
  },
  {
   "cell_type": "markdown",
   "metadata": {},
   "source": [
    "The layer descriptor must be a list of vectors with the hyperparameters. Check the help for train.cnn to see the list of layers and the properties of each kind"
   ]
  },
  {
   "cell_type": "code",
   "execution_count": 5,
   "metadata": {
    "collapsed": true
   },
   "outputs": [],
   "source": [
    "layers <- list(\n",
    "    c('type' = \"CONV\", 'n_channels' = 1, 'n_filters' = 4, 'filter_size' = 5, 'scale' = 0.1, 'border_mode' = 'same'),\n",
    "    c('type' = \"POOL\", 'n_channels' = 4, 'scale' = 0.1, 'win_size' = 3, 'stride' = 2),\n",
    "    c('type' = \"RELU\", 'n_channels' = 4),\n",
    "    c('type' = \"CONV\", 'n_channels' = 4, 'n_filters' = 16, 'filter_size' = 5, 'scale' = 0.1, 'border_mode' = 'same'),\n",
    "    c('type' = \"POOL\", 'n_channels' = 16, 'scale' = 0.1, 'win_size' = 3, 'stride' = 2),\n",
    "    c('type' = \"RELU\", 'n_channels' = 16),\n",
    "    c('type' = \"FLAT\", 'n_channels' = 16),\n",
    "    c('type' = \"LINE\", 'n_visible' = 784, 'n_hidden' = 64, 'scale' = 0.1),\n",
    "    c('type' = \"GBRL\", 'n_visible' = 64, 'n_hidden' = 32, 'scale' = 0.1, 'n_gibbs' = 4),\n",
    "    c('type' = \"RELV\"),\n",
    "    c('type' = \"LINE\", 'n_visible' = 32, 'n_hidden' = 10, 'scale' = 0.1),\n",
    "    c('type' = \"SOFT\", 'n_inputs' = 10)\n",
    ");"
   ]
  },
  {
   "cell_type": "markdown",
   "metadata": {},
   "source": [
    "### Train the CNN"
   ]
  },
  {
   "cell_type": "markdown",
   "metadata": {},
   "source": [
    "The CNN receives as inputs:\n",
    "\n",
    "* training_x: the datasets to be trained with\n",
    "* training_y: the labels for the training dataset\n",
    "* layers: the descriptor of the network layers\n",
    "\n",
    "Also receives the following hyperparameters:\n",
    "\n",
    "* batch_size: the size of each training mini-batch\n",
    "* training_epochs: the number of training epochs\n",
    "* learning_rate: the learning rate for Gradient Descent\n",
    "* momentum: the momentum for Gradient Descent (**Not Implemented Yet**)\n",
    "* rand_seed: the random seed for selecting samples and stochastic layers"
   ]
  },
  {
   "cell_type": "code",
   "execution_count": 6,
   "metadata": {
    "collapsed": true
   },
   "outputs": [],
   "source": [
    "mnist_cnn <- train.cnn(training_x,\n",
    "                       training_y,\n",
    "                       layers,\n",
    "                       batch_size = 10,\n",
    "                       training_epochs = 3,\n",
    "                       learning_rate = 1e-3,\n",
    "                       rand_seed = 1234\n",
    ");"
   ]
  },
  {
   "cell_type": "markdown",
   "metadata": {},
   "source": [
    "### Predict using the CNN"
   ]
  },
  {
   "cell_type": "code",
   "execution_count": 7,
   "metadata": {
    "collapsed": false
   },
   "outputs": [
    {
     "name": "stdout",
     "output_type": "stream",
     "text": [
      "List of 2\n",
      " $ score: num [1:1000, 1:10] 0.1 0.1 0.1 0.1 0.1 ...\n",
      " $ class: int [1:1000] 7 7 7 7 7 7 7 7 7 7 ...\n"
     ]
    }
   ],
   "source": [
    "prediction <- predict(mnist_cnn, testing_x);\n",
    "str(prediction)"
   ]
  },
  {
   "cell_type": "markdown",
   "metadata": {},
   "source": [
    "### Update / Re-train an RBM\n",
    "\n",
    "You can pass a trained RBM as initial values for a new CNN. The structure (layers) will be copied from the old CNN. The function returns a new updated copy of the old CNN"
   ]
  },
  {
   "cell_type": "code",
   "execution_count": 8,
   "metadata": {
    "collapsed": true
   },
   "outputs": [],
   "source": [
    "mnist_cnn_update <- train.cnn(training_x,\n",
    "                              training_y,\n",
    "                              batch_size = 10,\n",
    "                              training_epochs = 3,\n",
    "                              learning_rate = 1e-3,\n",
    "                              rand_seed = 1234,\n",
    "                              init_cnn = mnist_cnn\n",
    ");"
   ]
  },
  {
   "cell_type": "markdown",
   "metadata": {},
   "source": [
    "## Using the R native functions"
   ]
  },
  {
   "cell_type": "code",
   "execution_count": 9,
   "metadata": {
    "collapsed": true
   },
   "outputs": [],
   "source": [
    "rm (list = ls());"
   ]
  },
  {
   "cell_type": "markdown",
   "metadata": {},
   "source": [
    "### Load the R sources"
   ]
  },
  {
   "cell_type": "code",
   "execution_count": 10,
   "metadata": {
    "collapsed": false
   },
   "outputs": [],
   "source": [
    "setwd(\"..\");\n",
    "source(\"./cnn.R\");\n",
    "setwd(\"./notebooks\");"
   ]
  },
  {
   "cell_type": "markdown",
   "metadata": {},
   "source": [
    "### Load Dataset"
   ]
  },
  {
   "cell_type": "code",
   "execution_count": 11,
   "metadata": {
    "collapsed": true
   },
   "outputs": [],
   "source": [
    "mnist <- readRDS(\"../datasets/mnist.rds\");"
   ]
  },
  {
   "cell_type": "code",
   "execution_count": 12,
   "metadata": {
    "collapsed": true
   },
   "outputs": [],
   "source": [
    "img_size <- c(28,28);\n",
    "\n",
    "training_x <- array(mnist$train$x, c(nrow(mnist$train$x), 1, img_size)) / 255;\n",
    "training_y <- binarization(mnist$train$y);\n",
    "\n",
    "testing_x <- array(mnist$test$x, c(nrow(mnist$test$x), 1, img_size)) / 255;\n",
    "testing_y <- binarization(mnist$test$y);"
   ]
  },
  {
   "cell_type": "code",
   "execution_count": 13,
   "metadata": {
    "collapsed": true
   },
   "outputs": [],
   "source": [
    "training_x <- training_x[1:1000,,,, drop=FALSE];\n",
    "training_y <- training_y[1:1000,, drop=FALSE];\n",
    "\n",
    "testing_x <- testing_x[1:1000,,,, drop=FALSE];\n",
    "testing_y <- testing_y[1:1000,, drop=FALSE];"
   ]
  },
  {
   "cell_type": "markdown",
   "metadata": {},
   "source": [
    "### Prepare the Convolutional MLP Network\n",
    "\n",
    "The same layer descriptor works for the native R version"
   ]
  },
  {
   "cell_type": "code",
   "execution_count": 14,
   "metadata": {
    "collapsed": true
   },
   "outputs": [],
   "source": [
    "layers <- list(\n",
    "    c('type' = \"CONV\", 'n_channels' = 1, 'n_filters' = 4, 'filter_size' = 5, 'scale' = 0.1, 'border_mode' = 'same'),\n",
    "    c('type' = \"POOL\", 'n_channels' = 4, 'scale' = 0.1, 'win_size' = 3, 'stride' = 2),\n",
    "    c('type' = \"RELU\", 'n_channels' = 4),\n",
    "    c('type' = \"CONV\", 'n_channels' = 4, 'n_filters' = 16, 'filter_size' = 5, 'scale' = 0.1, 'border_mode' = 'same'),\n",
    "    c('type' = \"POOL\", 'n_channels' = 16, 'scale' = 0.1, 'win_size' = 3, 'stride' = 2),\n",
    "    c('type' = \"RELU\", 'n_channels' = 16),\n",
    "    c('type' = \"FLAT\", 'n_channels' = 16),\n",
    "    c('type' = \"LINE\", 'n_visible' = 784, 'n_hidden' = 64, 'scale' = 0.1),\n",
    "    c('type' = \"GBRL\", 'n_visible' = 64, 'n_hidden' = 32, 'scale' = 0.1, 'n_gibbs' = 4),\n",
    "    c('type' = \"RELV\"),\n",
    "    c('type' = \"LINE\", 'n_visible' = 32, 'n_hidden' = 10, 'scale' = 0.1),\n",
    "    c('type' = \"SOFT\", 'n_inputs' = 10)\n",
    ");"
   ]
  },
  {
   "cell_type": "markdown",
   "metadata": {},
   "source": [
    "### Train the CNN"
   ]
  },
  {
   "cell_type": "markdown",
   "metadata": {},
   "source": [
    "The native R CNN is trained like the one in the package"
   ]
  },
  {
   "cell_type": "code",
   "execution_count": 15,
   "metadata": {
    "collapsed": false
   },
   "outputs": [
    {
     "name": "stdout",
     "output_type": "stream",
     "text": [
      "[1] \"Epoch 1 : Mean Loss 2.76630654273982\"\n",
      "[1] \"Epoch 1 took 0.493213780721029 minutes\"\n",
      "[1] \"Epoch 2 : Mean Loss 2.74857577315278\"\n",
      "[1] \"Epoch 2 took 0.508029389381409 minutes\"\n",
      "[1] \"Epoch 3 : Mean Loss 2.73429835800919\"\n",
      "[1] \"Epoch 3 took 0.501638579368591 minutes\"\n"
     ]
    }
   ],
   "source": [
    "cnn1 <- train_cnn(training_x = training_x,\n",
    "                  training_y = training_y,\n",
    "                  layers = layers,\n",
    "                  batch_size = 10,\n",
    "                  training_epochs = 3,\n",
    "                  learning_rate = 1e-3,\n",
    "                  rand_seed = 1234\n",
    ");"
   ]
  },
  {
   "cell_type": "markdown",
   "metadata": {},
   "source": [
    "### Predict using the CNN"
   ]
  },
  {
   "cell_type": "markdown",
   "metadata": {},
   "source": [
    "In the native version, predict_cnn is not seen as an S3 method"
   ]
  },
  {
   "cell_type": "code",
   "execution_count": 16,
   "metadata": {
    "collapsed": false
   },
   "outputs": [
    {
     "name": "stdout",
     "output_type": "stream",
     "text": [
      "List of 2\n",
      " $ score: num [1:1000, 1:10] 0.0491 0.0673 0.0752 0.0752 0.0752 ...\n",
      " $ class: int [1:1000] 5 4 5 5 5 5 4 4 4 5 ...\n"
     ]
    }
   ],
   "source": [
    "prediction <- predict_cnn(cnn1, testing_x);\n",
    "str(prediction)"
   ]
  },
  {
   "cell_type": "markdown",
   "metadata": {},
   "source": [
    "### Update / Re-train CNN"
   ]
  },
  {
   "cell_type": "code",
   "execution_count": 17,
   "metadata": {
    "collapsed": false
   },
   "outputs": [
    {
     "name": "stderr",
     "output_type": "stream",
     "text": [
      "Warning: Layers introduced along init_cnn. Layers will be ignored\n"
     ]
    },
    {
     "name": "stdout",
     "output_type": "stream",
     "text": [
      "[1] \"Epoch 1 : Mean Loss 2.72344908072433\"\n",
      "[1] \"Epoch 1 took 0.494622011979421 minutes\"\n",
      "[1] \"Epoch 2 : Mean Loss 2.7149861772083\"\n",
      "[1] \"Epoch 2 took 0.495480044682821 minutes\"\n",
      "[1] \"Epoch 3 : Mean Loss 2.70824786344924\"\n",
      "[1] \"Epoch 3 took 0.493123185634613 minutes\"\n"
     ]
    }
   ],
   "source": [
    "cnn1_update <- train_cnn(training_x = training_x,\n",
    "                         training_y = training_y,\n",
    "                         layers = layers,\n",
    "                         batch_size = 10,\n",
    "                         training_epochs = 3,\n",
    "                         learning_rate = 1e-3,\n",
    "                         rand_seed = 1234,\n",
    "                         init_cnn = cnn1\n",
    ");"
   ]
  }
 ],
 "metadata": {
  "kernelspec": {
   "display_name": "R",
   "language": "R",
   "name": "ir"
  },
  "language_info": {
   "codemirror_mode": "r",
   "file_extension": ".r",
   "mimetype": "text/x-r-source",
   "name": "R",
   "pygments_lexer": "r",
   "version": "3.4.0"
  }
 },
 "nbformat": 4,
 "nbformat_minor": 1
}
