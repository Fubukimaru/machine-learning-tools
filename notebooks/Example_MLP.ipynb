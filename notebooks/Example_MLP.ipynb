{
 "cells": [
  {
   "cell_type": "markdown",
   "metadata": {},
   "source": [
    "# Using RCNN: Examples of MLP networks¶\n",
    "\n",
    "1. using the compiled libraries (GSL)\n",
    "2. using the native R libraries\n",
    "\n",
    "CNNs and MLPs can be trained and used by describing the layers composing the neural network. For CNNs we're using convolutional related layers plus flat layers, while with MLPs we're only using the later ones. Also inputs for CNNs must be 4 dimensional, while for MLPs must be 2 dimensional"
   ]
  },
  {
   "cell_type": "markdown",
   "metadata": {},
   "source": [
    "#### Load Libraries"
   ]
  },
  {
   "cell_type": "code",
   "execution_count": 1,
   "metadata": {
    "collapsed": true
   },
   "outputs": [],
   "source": [
    "library(rcnn);"
   ]
  },
  {
   "cell_type": "markdown",
   "metadata": {},
   "source": [
    "## MLPs: the MNIST example"
   ]
  },
  {
   "cell_type": "markdown",
   "metadata": {},
   "source": [
    "### Load Dataset\n",
    "\n",
    "* Previously it could be loaded through the RDS package.\n",
    "* Now, it is included in the package datasets as \"mnist\""
   ]
  },
  {
   "cell_type": "code",
   "execution_count": 2,
   "metadata": {
    "collapsed": true
   },
   "outputs": [],
   "source": [
    "data(mnist)"
   ]
  },
  {
   "cell_type": "markdown",
   "metadata": {},
   "source": [
    "In case of MLPs, input arrays must be 2 dimensional. In case of CNNs, input arrays must be 4 dimensional. Here we're flattening the inputs as [batch_size x features]"
   ]
  },
  {
   "cell_type": "code",
   "execution_count": 3,
   "metadata": {
    "collapsed": true
   },
   "outputs": [],
   "source": [
    "img_size <- c(28,28);\n",
    "\n",
    "training_x <- array(mnist$train$x, c(nrow(mnist$train$x), prod(img_size))) / 255;\n",
    "training_y <- binarization(mnist$train$y);\n",
    "\n",
    "testing_x <- array(mnist$test$x, c(nrow(mnist$test$x), prod(img_size))) / 255;\n",
    "testing_y <- binarization(mnist$test$y);"
   ]
  },
  {
   "cell_type": "markdown",
   "metadata": {},
   "source": [
    "Let's reduce the dataset size for this example"
   ]
  },
  {
   "cell_type": "code",
   "execution_count": 4,
   "metadata": {
    "collapsed": true
   },
   "outputs": [],
   "source": [
    "training_x <- training_x[1:1000,, drop=FALSE];\n",
    "training_y <- training_y[1:1000,, drop=FALSE];\n",
    "\n",
    "testing_x <- testing_x[1:1000,, drop=FALSE];\n",
    "testing_y <- testing_y[1:1000,, drop=FALSE];"
   ]
  },
  {
   "cell_type": "markdown",
   "metadata": {},
   "source": [
    "### Prepare the MLP Network"
   ]
  },
  {
   "cell_type": "markdown",
   "metadata": {},
   "source": [
    "The layer descriptor must be a list of vectors with the hyperparameters. Check the help for train.cnn to see the list of layers and the properties of each kind.\n",
    "\n",
    "In the case of MLPs (and not CNNs), layers are limited to those who accept matrices as inputs, also input has to be a matrix (not a 4D array)"
   ]
  },
  {
   "cell_type": "code",
   "execution_count": 5,
   "metadata": {
    "collapsed": true
   },
   "outputs": [],
   "source": [
    "layers <- list(\n",
    "    c('type' = \"LINE\", 'n_visible' = 784, 'n_hidden' = 64, 'scale' = 0.1),\n",
    "    c('type' = \"GBRL\", 'n_visible' = 64, 'n_hidden' = 32, 'scale' = 0.1, 'n_gibbs' = 4),\n",
    "    c('type' = \"RELV\"),\n",
    "    c('type' = \"LINE\", 'n_visible' = 32, 'n_hidden' = 10, 'scale' = 0.1),\n",
    "    c('type' = \"SOFT\", 'n_inputs' = 10)\n",
    ");"
   ]
  },
  {
   "cell_type": "markdown",
   "metadata": {},
   "source": [
    "### Train the MLP"
   ]
  },
  {
   "cell_type": "markdown",
   "metadata": {},
   "source": [
    "The MLP receives as inputs:\n",
    "\n",
    "* training_x: the datasets to be trained with\n",
    "* training_y: the labels for the training dataset\n",
    "* layers: the descriptor of the network layers\n",
    "\n",
    "Also receives the following hyperparameters:\n",
    "\n",
    "* batch_size: the size of each training mini-batch\n",
    "* training_epochs: the number of training epochs\n",
    "* learning_rate: the learning rate for Gradient Descent\n",
    "* rand_seed: the random seed for selecting samples and stochastic layers"
   ]
  },
  {
   "cell_type": "code",
   "execution_count": 6,
   "metadata": {
    "collapsed": false
   },
   "outputs": [],
   "source": [
    "mnist_mlp <- train.cnn(training_x,\n",
    "                       training_y,\n",
    "                       layers,\n",
    "                       batch_size = 10,\n",
    "                       training_epochs = 3,\n",
    "                       learning_rate = 1e-3,\n",
    "                       rand_seed = 1234\n",
    ");"
   ]
  },
  {
   "cell_type": "markdown",
   "metadata": {},
   "source": [
    "### Predict using the MLP"
   ]
  },
  {
   "cell_type": "code",
   "execution_count": 7,
   "metadata": {
    "collapsed": false
   },
   "outputs": [
    {
     "name": "stdout",
     "output_type": "stream",
     "text": [
      "List of 2\n",
      " $ score: num [1:1000, 1:10] 0.1 0.1 0.1 0.1 0.1 ...\n",
      " $ class: int [1:1000] 7 7 7 7 7 7 7 7 7 7 ...\n"
     ]
    }
   ],
   "source": [
    "prediction <- predict(mnist_mlp, testing_x);\n",
    "str(prediction)"
   ]
  },
  {
   "cell_type": "markdown",
   "metadata": {},
   "source": [
    "### Update / Re-train the MLP\n",
    "\n",
    "You can pass a trained MLP as initial values for a new MLP. The structure (layers) will be copied from the old MLP. The function returns a new updated copy of the old MLP"
   ]
  },
  {
   "cell_type": "code",
   "execution_count": 8,
   "metadata": {
    "collapsed": false
   },
   "outputs": [],
   "source": [
    "mnist_mlp_update <- train.cnn(training_x,\n",
    "                              training_y,\n",
    "                              batch_size = 10,\n",
    "                              training_epochs = 3,\n",
    "                              learning_rate = 1e-3,\n",
    "                              rand_seed = 1234,\n",
    "                              init_cnn = mnist_mlp\n",
    ");"
   ]
  },
  {
   "cell_type": "code",
   "execution_count": 9,
   "metadata": {
    "collapsed": false
   },
   "outputs": [
    {
     "name": "stdout",
     "output_type": "stream",
     "text": [
      "List of 2\n",
      " $ score: num [1:1000, 1:10] 0.1 0.1 0.1 0.1 0.1 ...\n",
      " $ class: int [1:1000] 7 7 7 7 7 7 7 7 7 7 ...\n"
     ]
    }
   ],
   "source": [
    "prediction <- predict(mnist_mlp_update, testing_x);\n",
    "str(prediction)"
   ]
  },
  {
   "cell_type": "markdown",
   "metadata": {},
   "source": [
    "## Using the R native functions"
   ]
  },
  {
   "cell_type": "code",
   "execution_count": 10,
   "metadata": {
    "collapsed": true
   },
   "outputs": [],
   "source": [
    "rm (list = ls());"
   ]
  },
  {
   "cell_type": "markdown",
   "metadata": {},
   "source": [
    "### Load the R sources"
   ]
  },
  {
   "cell_type": "code",
   "execution_count": 11,
   "metadata": {
    "collapsed": false
   },
   "outputs": [],
   "source": [
    "setwd(\"..\");\n",
    "source(\"./cnn.R\");\n",
    "setwd(\"./notebooks\");"
   ]
  },
  {
   "cell_type": "markdown",
   "metadata": {},
   "source": [
    "### Load Dataset"
   ]
  },
  {
   "cell_type": "code",
   "execution_count": 12,
   "metadata": {
    "collapsed": true
   },
   "outputs": [],
   "source": [
    "mnist <- readRDS(\"../datasets/mnist.rds\");"
   ]
  },
  {
   "cell_type": "code",
   "execution_count": 13,
   "metadata": {
    "collapsed": true
   },
   "outputs": [],
   "source": [
    "img_size <- c(28,28);\n",
    "\n",
    "training_x <- array(mnist$train$x, c(nrow(mnist$train$x), prod(img_size))) / 255;\n",
    "training_y <- binarization(mnist$train$y);\n",
    "\n",
    "testing_x <- array(mnist$test$x, c(nrow(mnist$test$x), prod(img_size))) / 255;\n",
    "testing_y <- binarization(mnist$test$y);"
   ]
  },
  {
   "cell_type": "code",
   "execution_count": 14,
   "metadata": {
    "collapsed": true
   },
   "outputs": [],
   "source": [
    "training_x <- training_x[1:1000,, drop=FALSE];\n",
    "training_y <- training_y[1:1000,, drop=FALSE];\n",
    "\n",
    "testing_x <- testing_x[1:1000,, drop=FALSE];\n",
    "testing_y <- testing_y[1:1000,, drop=FALSE];"
   ]
  },
  {
   "cell_type": "markdown",
   "metadata": {},
   "source": [
    "### Prepare the MLP Network\n",
    "\n",
    "The same layer descriptor works for the native R version"
   ]
  },
  {
   "cell_type": "code",
   "execution_count": 15,
   "metadata": {
    "collapsed": true
   },
   "outputs": [],
   "source": [
    "layers <- list(\n",
    "    c('type' = \"LINE\", 'n_visible' = 784, 'n_hidden' = 64, 'scale' = 0.1),\n",
    "    c('type' = \"GBRL\", 'n_visible' = 64, 'n_hidden' = 32, 'scale' = 0.1, 'n_gibbs' = 4),\n",
    "    c('type' = \"RELV\"),\n",
    "    c('type' = \"LINE\", 'n_visible' = 32, 'n_hidden' = 10, 'scale' = 0.1),\n",
    "    c('type' = \"SOFT\", 'n_inputs' = 10)\n",
    ");"
   ]
  },
  {
   "cell_type": "markdown",
   "metadata": {},
   "source": [
    "### Train the MLP"
   ]
  },
  {
   "cell_type": "markdown",
   "metadata": {},
   "source": [
    "The native R MLP is trained like the one in the package"
   ]
  },
  {
   "cell_type": "code",
   "execution_count": 16,
   "metadata": {
    "collapsed": false
   },
   "outputs": [
    {
     "name": "stdout",
     "output_type": "stream",
     "text": [
      "[1] \"Epoch 1 : Mean Loss 2.74712236792918\"\n",
      "[1] \"Epoch 1 took 0.00619792540868123 minutes\"\n",
      "[1] \"Epoch 2 : Mean Loss 2.75131438678832\"\n",
      "[1] \"Epoch 2 took 0.00450321038564046 minutes\"\n",
      "[1] \"Epoch 3 : Mean Loss 2.74430054101487\"\n",
      "[1] \"Epoch 3 took 0.00607141256332397 minutes\"\n"
     ]
    }
   ],
   "source": [
    "mlp1 <- train_cnn(training_x = training_x,\n",
    "                  training_y = training_y,\n",
    "                  layers = layers,\n",
    "                  batch_size = 10,\n",
    "                  training_epochs = 3,\n",
    "                  learning_rate = 1e-3,\n",
    "                  rand_seed = 1234\n",
    ");"
   ]
  },
  {
   "cell_type": "markdown",
   "metadata": {},
   "source": [
    "### Predict using the MLP"
   ]
  },
  {
   "cell_type": "markdown",
   "metadata": {},
   "source": [
    "In the native version, predict_cnn is not seen as an S3 method"
   ]
  },
  {
   "cell_type": "code",
   "execution_count": 17,
   "metadata": {
    "collapsed": false
   },
   "outputs": [
    {
     "name": "stdout",
     "output_type": "stream",
     "text": [
      "List of 2\n",
      " $ score: num [1:1000, 1:10] 0.1073 0.1845 0.0831 0.1138 0.1062 ...\n",
      " $ class: int [1:1000] 2 1 4 2 6 5 6 7 7 4 ...\n"
     ]
    }
   ],
   "source": [
    "prediction <- predict_cnn(mlp1, testing_x);\n",
    "str(prediction)"
   ]
  },
  {
   "cell_type": "markdown",
   "metadata": {},
   "source": [
    "### Update / Re-train the MLP"
   ]
  },
  {
   "cell_type": "code",
   "execution_count": 18,
   "metadata": {
    "collapsed": false
   },
   "outputs": [
    {
     "name": "stderr",
     "output_type": "stream",
     "text": [
      "Warning: Layers introduced along init_cnn. Layers will be ignored\n"
     ]
    },
    {
     "name": "stdout",
     "output_type": "stream",
     "text": [
      "[1] \"Epoch 1 : Mean Loss 2.73734172067997\"\n",
      "[1] \"Epoch 1 took 0.00547860860824585 minutes\"\n",
      "[1] \"Epoch 2 : Mean Loss 2.73679329022619\"\n",
      "[1] \"Epoch 2 took 0.00481817722320557 minutes\"\n",
      "[1] \"Epoch 3 : Mean Loss 2.72631982060983\"\n",
      "[1] \"Epoch 3 took 0.00557696421941121 minutes\"\n"
     ]
    }
   ],
   "source": [
    "mlp1_update <- train_cnn(training_x = training_x,\n",
    "                         training_y = training_y,\n",
    "                         layers = layers,\n",
    "                         batch_size = 10,\n",
    "                         training_epochs = 3,\n",
    "                         learning_rate = 1e-3,\n",
    "                         rand_seed = 1234,\n",
    "                         init_cnn = mlp1\n",
    ");"
   ]
  },
  {
   "cell_type": "code",
   "execution_count": 19,
   "metadata": {
    "collapsed": false
   },
   "outputs": [
    {
     "name": "stdout",
     "output_type": "stream",
     "text": [
      "List of 2\n",
      " $ score: num [1:1000, 1:10] 0.0905 0.1335 0.1203 0.1743 0.0759 ...\n",
      " $ class: int [1:1000] 2 4 2 2 2 2 10 2 9 4 ...\n"
     ]
    }
   ],
   "source": [
    "prediction <- predict_cnn(mlp1_update, testing_x);\n",
    "str(prediction)"
   ]
  }
 ],
 "metadata": {
  "kernelspec": {
   "display_name": "R",
   "language": "R",
   "name": "ir"
  },
  "language_info": {
   "codemirror_mode": "r",
   "file_extension": ".r",
   "mimetype": "text/x-r-source",
   "name": "R",
   "pygments_lexer": "r",
   "version": "3.4.0"
  }
 },
 "nbformat": 4,
 "nbformat_minor": 1
}
