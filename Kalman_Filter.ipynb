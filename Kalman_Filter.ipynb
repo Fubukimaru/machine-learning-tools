{
 "cells": [
  {
   "cell_type": "markdown",
   "metadata": {},
   "source": [
    "# Kalman Filter in R\n",
    "\n",
    "An example of how a Kalman Filter can predict and adjust to a sequence (even with a given period or window).\n",
    "\n",
    "@author Josep Ll. Berral (Barcelona Supercomputing Center)\n",
    "\n",
    "#### Reference\n",
    "* Based on: http://greg.czerniak.info/guides/kalman1/\n",
    "* Also inspired by the case of use from: Knorn.F et al \"Adaptive Kalman Filtering for Anomaly Detection in SW Appliances\" http://www.hamilton.ie/florian/infocom2008.pdf"
   ]
  },
  {
   "cell_type": "markdown",
   "metadata": {},
   "source": [
    "### Functions\n",
    "\n",
    "* **kalman.filter** : Kalman Filter Function. Trains the filter and predicts it on the go"
   ]
  },
  {
   "cell_type": "code",
   "execution_count": 142,
   "metadata": {
    "collapsed": true
   },
   "outputs": [],
   "source": [
    "kalman.filter <- function (series, period = 1, qpar=0.00001, rpar = 0.1)\n",
    "{\n",
    "    if (period > 1)\n",
    "    {\n",
    "        Faux <- diag(1,nrow=(period-1));\n",
    "        Faux <- cbind(0,Faux);\n",
    "        Faux <- rbind(0,Faux);\n",
    "        Faux[period,1] <- 1;\n",
    "        F <- Faux;\n",
    "    } else {\n",
    "        F <- diag(1,nrow=1);\n",
    "    }\n",
    "\n",
    "    Q <- diag(qpar,nrow=period);\n",
    "    R <- diag(rpar,nrow=period);\n",
    "    P <- diag(1,nrow=period);\n",
    "    S <- diag(1,nrow=period);\n",
    "    H <- diag(1,nrow=period);\n",
    "    I <- diag(1,nrow=period);\n",
    "    V <- as.matrix(rep(1,period))\n",
    "\n",
    "    v <- as.matrix(rep(0,period));\n",
    "    s2 <- as.matrix(rep(0,period));\n",
    "    x <- as.matrix(series[1:period]);\n",
    "\n",
    "    alfa.v <- 0.1;\n",
    "#   alfa.q <- 0.1;\n",
    "    h <- function(value)\n",
    "    {\n",
    "        value[is.nan(value) | value < 0] <- 0;\n",
    "        value;\n",
    "    }\n",
    "\n",
    "    retval <- matrix(0,4);\n",
    "\n",
    "    for (i in 1:(length(series)/period))\n",
    "    {\n",
    "        # Make Prediction\n",
    "        x.p <- F %*% x;\n",
    "        P.p <- ((F %*% P) %*% t(F)) + Q;\n",
    "\n",
    "        # Introducing Real Value of Y\n",
    "        y <- as.matrix(series[((i-1)*period+1):(i*period)]);\n",
    "        y.p <- H %*% x.p;\n",
    "        e.p <- y - y.p;\n",
    "\n",
    "        #y.p[1,1] <- y[1,1];\n",
    "        retval <- cbind(retval,t(cbind(cbind(cbind(y,y.p),s2),e.p)));\n",
    "\n",
    "        v <- (alfa.v * v) + ((1 - alfa.v) * h(e.p^2 - (((t(H) %*% P) %*% H) %*% V)));\n",
    "        s2 <- (((t(H) %*% P) %*% H) %*% V) + v;\n",
    "\n",
    "        # Update Values\n",
    "        S <- (((H %*% P.p) %*% t(H)) + R);\n",
    "        K <- (P.p %*% t(H)) / S; K[is.nan(K)] <- 0;\n",
    "        x <- x.p + (K %*% e.p);\n",
    "        P <- (I - K %*% H) %*% P.p;\n",
    "#       Q <- (alfa.q * Q) + ((1 - alfa.q) * h((e.p^2 - (((((t(H) %*% F) %*% P) %*% t(F)) %*% H) + R)^2)/(H %*% t(H))));\n",
    "    }\n",
    "\n",
    "    retval[,-1];\n",
    "}\n"
   ]
  },
  {
   "cell_type": "markdown",
   "metadata": {},
   "source": [
    "* **ctflag**: Evaluates the outcome of the filter according to Sigmas (Flag the output as 0 = normal, 1= warning, 2 = error)"
   ]
  },
  {
   "cell_type": "code",
   "execution_count": 143,
   "metadata": {
    "collapsed": true
   },
   "outputs": [],
   "source": [
    "ctflag <- function (retval, threshold = 20, sigmas = 3)\n",
    "{\n",
    "    flags <- rep(0,ncol(retval));\n",
    "    for (i in 1:ncol(retval))\n",
    "    {\n",
    "        observed <- retval[1,i];\n",
    "        predicted <- retval[2,i];\n",
    "        deviation <- sigmas * sqrt(retval[3,i]);\n",
    "        error <- retval[4,i];\n",
    "\n",
    "        if ((observed > predicted + deviation) || (observed < predicted - deviation))\n",
    "        {\n",
    "            flags[i] <- 2;\n",
    "            if (error < threshold) flags[i] <- 1;\n",
    "        } else {\n",
    "            if (error > threshold) flags[i] <- 1;\n",
    "        }\n",
    "    }\n",
    "    flags;\n",
    "}"
   ]
  },
  {
   "cell_type": "markdown",
   "metadata": {},
   "source": [
    "### Generate Series\n",
    "\n",
    "We generate a new random serie to test the filter"
   ]
  },
  {
   "cell_type": "code",
   "execution_count": 144,
   "metadata": {
    "collapsed": false
   },
   "outputs": [],
   "source": [
    "generate_series <- function(size = 10)\n",
    "{\n",
    "    transition.matrix <- array(c(0.99,0.01,\n",
    "                                 0.01,0.99),c(2,2));\n",
    "    series <- NULL;\n",
    "    last.state <- 1;\n",
    "    for (i in 1:size)\n",
    "    {\n",
    "        jump.prob <- transition.matrix[last.state + 1,];\n",
    "        new.state <- sample(c(0,1), 1, prob = jump.prob);\n",
    "        series <- c(series, new.state);\n",
    "        last.state <- new.state;\n",
    "    }\n",
    "    series;\n",
    "    \n",
    "}\n",
    "series <- generate_series(1000);"
   ]
  },
  {
   "cell_type": "markdown",
   "metadata": {},
   "source": [
    "### Evaluate Series\n",
    "\n",
    "We simulate the arrival of inputs from our serie, and the evaluation the filter realizes"
   ]
  },
  {
   "cell_type": "code",
   "execution_count": 159,
   "metadata": {
    "collapsed": false
   },
   "outputs": [],
   "source": [
    "window <- 50;\n",
    "plot.real <- series[1:(window - 1)];\n",
    "plot.pred <- rep(0,(window - 1));\n",
    "plot.flags <- rep(0,(window - 1));\n",
    "\n",
    "for (i in window:length(series))\n",
    "{\n",
    "    aux <- kalman.filter(series[(i - window + 1):i], period = 5);\n",
    "    rval <- aux[1,ncol(aux)];\n",
    "    pval <- aux[2,ncol(aux)];\n",
    "\n",
    "    flags <- ctflag(aux, threshold = 0.2, sigmas = 1);\n",
    "    \n",
    "    plot.real <- c(plot.real, rval);\n",
    "    plot.pred <- c(plot.pred, pval);\n",
    "    plot.flags  <- c(plot.flags, flags[length(flags)]);\n",
    "}\n",
    "\n",
    "code.flag <- rep(\"Normal\",length(plot.flags));\n",
    "code.flag[plot.flags == 1] <- \"Warning\";\n",
    "code.flag[plot.flags == 2] <- \"Error\";"
   ]
  },
  {
   "cell_type": "markdown",
   "metadata": {},
   "source": [
    "Also we plot the results"
   ]
  },
  {
   "cell_type": "code",
   "execution_count": 304,
   "metadata": {
    "collapsed": true
   },
   "outputs": [],
   "source": [
    "library(ggplot2)"
   ]
  },
  {
   "cell_type": "code",
   "execution_count": 312,
   "metadata": {
    "collapsed": false
   },
   "outputs": [
    {
     "data": {},
     "metadata": {},
     "output_type": "display_data"
    },
    {
     "data": {},
     "metadata": {},
     "output_type": "display_data"
    },
    {
     "data": {
      "image/png": "[encoded data removed]",
      "text/plain": [
       "plot without title"
      ]
     },
     "metadata": {},
     "output_type": "display_data"
    },
    {
     "data": {
      "image/png": "[encoded data removed]",
      "text/plain": [
       "plot without title"
      ]
     },
     "metadata": {},
     "output_type": "display_data"
    }
   ],
   "source": [
    "p1 <- ggplot(data = data.frame(plot.real, plot.pred, index=1:length(plot.real)), aes(index))  +\n",
    "geom_line(aes(y = plot.real), color = \"#000000\") + \n",
    "geom_line(aes(y = plot.pred), color = \"#0000FF\") +\n",
    "labs(x = NULL, y = NULL, title = \"Series and Predictions\") +\n",
    "theme(panel.background = element_rect(fill = 'white'),legend.position = \"none\")\n",
    "\n",
    "p2 <- ggplot(data = data.frame(plot.flags, 1:length(plot.flags)))  +\n",
    "geom_tile(aes(y = 1, x = seq(1:length(plot.flags)), fill = code.flag, height = 0.05)) +\n",
    "scale_fill_manual(values = c(\"#FF0000\",\"#00FF00\",\"#FFFF00\")) +\n",
    "labs(x = NULL, y = NULL, title = NULL) +\n",
    "theme(panel.background = element_rect(fill = 'white'),legend.position = \"none\")\n",
    "\n",
    "options(repr.plot.width=8, repr.plot.height=3);\n",
    "p1\n",
    "options(repr.plot.width=8, repr.plot.height=0.5);\n",
    "p2"
   ]
  }
 ],
 "metadata": {
  "kernelspec": {
   "display_name": "R",
   "language": "R",
   "name": "ir"
  },
  "language_info": {
   "codemirror_mode": "r",
   "file_extension": ".r",
   "mimetype": "text/x-r-source",
   "name": "R",
   "pygments_lexer": "r",
   "version": "3.3.2"
  }
 },
 "nbformat": 4,
 "nbformat_minor": 1
}
